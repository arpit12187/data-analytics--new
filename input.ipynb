{
 "cells": [
  {
   "cell_type": "code",
   "execution_count": 5,
   "metadata": {},
   "outputs": [
    {
     "name": "stdout",
     "output_type": "stream",
     "text": [
      "so you are {'arpit'}\n"
     ]
    }
   ],
   "source": [
    "\n",
    "name= input(\"who are you\")\n",
    "print(f\"so you are\", {name})\n"
   ]
  },
  {
   "cell_type": "code",
   "execution_count": 6,
   "metadata": {},
   "outputs": [
    {
     "name": "stdout",
     "output_type": "stream",
     "text": [
      "simple interest calculation\n",
      "principle=> 100\n",
      "rate=> 5\n",
      "time(yrs) => 5\n",
      "----------\n",
      "simple interest will be => 25.0\n"
     ]
    }
   ],
   "source": [
    "p= int(input(\"enter the principle amount\"))\n",
    "r= int(input(\"emter rate\"))\n",
    "t= int(input(\"Enter time\"))\n",
    "si= p*r*t/100\n",
    "print(\"simple interest calculation\")\n",
    "print(f\"principle=> {p}\")\n",
    "print(f\"rate=> {r}\")\n",
    "print(f\"time(yrs) => {t}\")\n",
    "print(\"-\"*10)\n",
    "print(f\"simple interest will be => {si}\")"
   ]
  },
  {
   "cell_type": "markdown",
   "metadata": {},
   "source": [
    "Allignment and formatting"
   ]
  },
  {
   "cell_type": "code",
   "execution_count": 9,
   "metadata": {},
   "outputs": [
    {
     "name": "stdout",
     "output_type": "stream",
     "text": [
      "Arpit\n",
      "                                                                                               Arpit\n",
      "       Arpit        \n"
     ]
    }
   ],
   "source": [
    "word= \"Arpit\"\n",
    "print(word)\n",
    "print(f\"{word:>100}\")\n",
    "print(f\"{word:^20}\")"
   ]
  },
  {
   "cell_type": "code",
   "execution_count": 13,
   "metadata": {},
   "outputs": [
    {
     "name": "stdout",
     "output_type": "stream",
     "text": [
      "12000.138984928595\n",
      "12000.138984928595\n",
      "       12000.14\n"
     ]
    }
   ],
   "source": [
    "num= 12000.1389849285946\n",
    "print(f\"{num}\")\n",
    "print(f\"{num:>15}\")\n",
    "print(f\"{num:15.2f}\")\n"
   ]
  },
  {
   "cell_type": "code",
   "execution_count": 18,
   "metadata": {},
   "outputs": [
    {
     "name": "stdout",
     "output_type": "stream",
     "text": [
      "simple interest calculation\n",
      "principle=>                  100\n",
      "rate=>                    4\n",
      "time(yrs) =>                   54\n",
      "------------------------------\n",
      "simple interest will be =>   216.0\n"
     ]
    }
   ],
   "source": [
    "p= int(input(\"enter the principle amount\"))\n",
    "r= int(input(\"emter rate\"))\n",
    "t= int(input(\"Enter time\"))\n",
    "si= p*r*t/100\n",
    "print(\"simple interest calculation\")\n",
    "print(f\"principle=> {p:20}\")\n",
    "print(f\"rate=> {r:20}\")\n",
    "print(f\"time(yrs) => {t:20}\")\n",
    "print(\"---\"*10)\n",
    "print(f\"simple interest will be => {si:7}\")"
   ]
  },
  {
   "cell_type": "code",
   "execution_count": 26,
   "metadata": {},
   "outputs": [
    {
     "name": "stdout",
     "output_type": "stream",
     "text": [
      "volume of Square\n",
      "volume => side^3\n",
      "------------------------------\n",
      "volume=> 1000\n"
     ]
    }
   ],
   "source": [
    "s= int(input(\"enter side\"))\n",
    "volume= s*s*s\n",
    "print(\"volume of Square\")\n",
    "print(\"volume => side^3\")\n",
    "print(\"---\"*10)\n",
    "\n",
    "print(f\"volume=> {volume}\")"
   ]
  },
  {
   "cell_type": "code",
   "execution_count": null,
   "metadata": {},
   "outputs": [],
   "source": []
  }
 ],
 "metadata": {
  "kernelspec": {
   "display_name": "base",
   "language": "python",
   "name": "python3"
  },
  "language_info": {
   "codemirror_mode": {
    "name": "ipython",
    "version": 3
   },
   "file_extension": ".py",
   "mimetype": "text/x-python",
   "name": "python",
   "nbconvert_exporter": "python",
   "pygments_lexer": "ipython3",
   "version": "3.12.3"
  }
 },
 "nbformat": 4,
 "nbformat_minor": 2
}
