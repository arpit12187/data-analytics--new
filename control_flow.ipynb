{
 "cells": [
  {
   "cell_type": "markdown",
   "metadata": {},
   "source": [
    "# Control flow\n",
    "### condition\n",
    "- if\n",
    "- if else\n",
    "- if elif \n",
    "- if elif ladder\n",
    "- match case\n",
    "- nested if\n",
    "\n",
    "### loops\n",
    "- for\n",
    "- while\n",
    "\n"
   ]
  },
  {
   "cell_type": "code",
   "execution_count": null,
   "metadata": {},
   "outputs": [],
   "source": [
    "x= 10\n",
    "if x>=5:\n",
    "    print(\"😍\")\n",
    "\n",
    "\n",
    "name = \"Arpit\"\n",
    "if name:\n",
    "    print(\"name is there\")"
   ]
  },
  {
   "cell_type": "code",
   "execution_count": null,
   "metadata": {},
   "outputs": [],
   "source": [
    "a= \"Apple\"\n",
    "if len(a):\n",
    "    print(\"a is not empty\")\n",
    "else:\n",
    "    print(\"a is empty\")\n"
   ]
  },
  {
   "cell_type": "markdown",
   "metadata": {},
   "source": [
    "if elif Ladder"
   ]
  },
  {
   "cell_type": "code",
   "execution_count": null,
   "metadata": {},
   "outputs": [],
   "source": [
    "a= 15\n",
    "b= 22\n",
    "c= 10\n",
    "\n",
    "if a>b and a>c:\n",
    "    print(\"a is greater\")\n",
    "elif(b>a and b>c):\n",
    "    print(\"b is greater\")\n",
    "else:\n",
    "    print(\"c is grater\")\n"
   ]
  },
  {
   "cell_type": "code",
   "execution_count": null,
   "metadata": {},
   "outputs": [],
   "source": [
    "marks= int(input(\"enter the marks\"))\n",
    "if marks >=90:\n",
    "    grade=\"A\"\n",
    "\n",
    "elif marks<90 and marks>=75:\n",
    "    grade= \"B\"\n",
    "elif marks<75 and marks>=60:\n",
    "    grade=\"C\"\n",
    "else:\n",
    "    Grade=\"D\"       \n",
    "print(f\"  Student Marks = {marks}\")\n",
    "print(f\" Student grade = {grade}\")"
   ]
  },
  {
   "cell_type": "markdown",
   "metadata": {},
   "source": [
    "# loops\n",
    "- step based loop(for loops)\n",
    "- condition based loop(while loops)"
   ]
  },
  {
   "cell_type": "code",
   "execution_count": null,
   "metadata": {},
   "outputs": [],
   "source": [
    "numbers= [1,2,3,4,5,6]\n",
    "for i in numbers:\n",
    "    print(i)\n"
   ]
  },
  {
   "cell_type": "code",
   "execution_count": null,
   "metadata": {},
   "outputs": [],
   "source": [
    "brands= [\"sony\", \"apple\", \"lenovo\",\"samsung\"]\n",
    "for name in brands:\n",
    "    print(name)"
   ]
  },
  {
   "cell_type": "markdown",
   "metadata": {},
   "source": [
    "# iterable\n",
    "- list\n",
    "- tuple\n",
    "- str\n",
    "- set\n",
    "- dict\n",
    "- range\n",
    "- generator"
   ]
  },
  {
   "cell_type": "code",
   "execution_count": null,
   "metadata": {},
   "outputs": [],
   "source": [
    "word='journry'\n",
    "for ch in word:\n",
    "    print(ch)"
   ]
  },
  {
   "cell_type": "code",
   "execution_count": null,
   "metadata": {},
   "outputs": [],
   "source": [
    "for i in {12,52,23,34,55}:\n",
    "    print(i)"
   ]
  },
  {
   "cell_type": "markdown",
   "metadata": {},
   "source": [
    "range function for loop\n",
    "\n",
    "range(stop)- 0 to stop 1\n",
    "range(start, stop) -1"
   ]
  },
  {
   "cell_type": "code",
   "execution_count": null,
   "metadata": {},
   "outputs": [],
   "source": [
    "for i in range(10):#till n-1\n",
    "    print(i, end=\" \")"
   ]
  },
  {
   "cell_type": "code",
   "execution_count": null,
   "metadata": {},
   "outputs": [],
   "source": [
    "for i in range(1,9):\n",
    "    print(i, end= \" \")"
   ]
  },
  {
   "cell_type": "code",
   "execution_count": null,
   "metadata": {},
   "outputs": [],
   "source": [
    "for i in range(5,15,2):\n",
    "    print(i, end = \" \")"
   ]
  },
  {
   "cell_type": "code",
   "execution_count": null,
   "metadata": {},
   "outputs": [],
   "source": [
    "# reverse loop\n",
    "for i in range(10,0,-1):\n",
    "    print(i, end= \" \")"
   ]
  },
  {
   "cell_type": "code",
   "execution_count": null,
   "metadata": {},
   "outputs": [],
   "source": [
    "for i in range(-5, 6,):\n",
    "    print(i, end= \" \")"
   ]
  },
  {
   "cell_type": "code",
   "execution_count": null,
   "metadata": {},
   "outputs": [],
   "source": [
    "# sum of all number from 1 to 100\n",
    "\n",
    "total = 0\n",
    "for i in range(1,100):\n",
    "    total= total+i\n",
    "print(total)\n"
   ]
  },
  {
   "cell_type": "code",
   "execution_count": null,
   "metadata": {},
   "outputs": [],
   "source": [
    "sum(list(range(1,100)))"
   ]
  },
  {
   "cell_type": "code",
   "execution_count": 26,
   "metadata": {},
   "outputs": [
    {
     "name": "stdout",
     "output_type": "stream",
     "text": [
      "ravishankar\n"
     ]
    }
   ],
   "source": [
    "# find the largest word in the list\n",
    "\n",
    "words= ['ben','satyam','ravishankar', 'prayagraj']\n",
    "word= ''\n",
    "for item in words:\n",
    "    if len(item)> len(word):\n",
    "        word= item\n",
    "print(word)\n",
    "\n"
   ]
  },
  {
   "cell_type": "markdown",
   "metadata": {},
   "source": [
    "break and continue"
   ]
  },
  {
   "cell_type": "code",
   "execution_count": 27,
   "metadata": {},
   "outputs": [
    {
     "name": "stdout",
     "output_type": "stream",
     "text": [
      "0 1 2 3 4 5 6 7 the end\n"
     ]
    }
   ],
   "source": [
    "for i in range(10):\n",
    "    if i == 8:\n",
    "        break\n",
    "    print(i, end= ' ')\n",
    "print(\"the end\")\n",
    "\n",
    "\n"
   ]
  },
  {
   "cell_type": "code",
   "execution_count": 30,
   "metadata": {},
   "outputs": [
    {
     "name": "stdout",
     "output_type": "stream",
     "text": [
      "1\n",
      "2\n",
      "4\n",
      "5\n",
      "6\n"
     ]
    }
   ],
   "source": [
    "data= [1,2,4,5,6,7,8]\n",
    "for i in data:\n",
    "    if i == 7:\n",
    "        break\n",
    "    print(i)"
   ]
  },
  {
   "cell_type": "code",
   "execution_count": 31,
   "metadata": {},
   "outputs": [
    {
     "name": "stdout",
     "output_type": "stream",
     "text": [
      "1\n",
      "4\n",
      "9\n",
      "16\n",
      "25\n",
      "36\n",
      "49\n"
     ]
    }
   ],
   "source": [
    "data=[1,2,3,4,0,5,6,7]\n",
    "for i in data:\n",
    "    if i == 0:\n",
    "        continue\n",
    "    print(i**2)"
   ]
  },
  {
   "cell_type": "code",
   "execution_count": 34,
   "metadata": {},
   "outputs": [
    {
     "name": "stdout",
     "output_type": "stream",
     "text": [
      "0 apple\n",
      "1 banana\n",
      "2  mango\n",
      "3  orange\n",
      "4  kiwi\n"
     ]
    }
   ],
   "source": [
    "fruits=['apple', 'banana',' mango', ' orange', ' kiwi']\n",
    "for idx, name in enumerate(fruits):\n",
    "    print(idx, name)\n"
   ]
  },
  {
   "cell_type": "code",
   "execution_count": 36,
   "metadata": {},
   "outputs": [
    {
     "name": "stdout",
     "output_type": "stream",
     "text": [
      "0\n",
      "3\n",
      "8\n",
      "132\n",
      "220\n",
      "330\n",
      "456\n"
     ]
    }
   ],
   "source": [
    "numbers= [23,3,4,44,55,66,76]\n",
    "for idx, num in enumerate(numbers):\n",
    "    print(idx* num)"
   ]
  },
  {
   "cell_type": "code",
   "execution_count": 37,
   "metadata": {},
   "outputs": [
    {
     "name": "stdout",
     "output_type": "stream",
     "text": [
      "12\n",
      "24\n",
      "36\n",
      "48\n"
     ]
    }
   ],
   "source": [
    "x= [1,2,3,4,]\n",
    "y=[11,22,33,44,55]\n",
    "for i, j in zip(x,y):\n",
    "    print(i+j)\n"
   ]
  },
  {
   "cell_type": "code",
   "execution_count": 40,
   "metadata": {},
   "outputs": [
    {
     "name": "stdout",
     "output_type": "stream",
     "text": [
      "12 arpit\n",
      "15 arpit\n",
      "18 arpit\n"
     ]
    }
   ],
   "source": [
    "x=[1,2,3]\n",
    "y=[4,5,6]\n",
    "z= [7,8,9]\n",
    "w= \"arpit\"\n",
    "for i, j, k, l in zip(x,y,z,w):\n",
    "    print(i+j+k, w)"
   ]
  },
  {
   "cell_type": "code",
   "execution_count": 44,
   "metadata": {},
   "outputs": [
    {
     "name": "stdout",
     "output_type": "stream",
     "text": [
      "7\n"
     ]
    }
   ],
   "source": [
    "# count the number of vowels in a sentence\n",
    "\n",
    "sentence= \"this is a very good day\"\n",
    "count=0\n",
    "for ch in sentence:\n",
    "    if ch in 'aeiou':\n",
    "        count +=1\n",
    "print(count)"
   ]
  },
  {
   "cell_type": "code",
   "execution_count": null,
   "metadata": {},
   "outputs": [],
   "source": []
  }
 ],
 "metadata": {
  "kernelspec": {
   "display_name": "base",
   "language": "python",
   "name": "python3"
  },
  "language_info": {
   "codemirror_mode": {
    "name": "ipython",
    "version": 3
   },
   "file_extension": ".py",
   "mimetype": "text/x-python",
   "name": "python",
   "nbconvert_exporter": "python",
   "pygments_lexer": "ipython3",
   "version": "3.12.3"
  }
 },
 "nbformat": 4,
 "nbformat_minor": 2
}
