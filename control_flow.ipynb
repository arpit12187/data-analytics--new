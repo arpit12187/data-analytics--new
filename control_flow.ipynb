{
 "cells": [
  {
   "cell_type": "markdown",
   "metadata": {},
   "source": [
    "# Control flow\n",
    "### condition\n",
    "- if\n",
    "- if else\n",
    "- if elif \n",
    "- if elif ladder\n",
    "- match case\n",
    "- nested if\n",
    "\n",
    "### loops\n",
    "- for\n",
    "- while\n",
    "\n"
   ]
  },
  {
   "cell_type": "code",
   "execution_count": 5,
   "metadata": {},
   "outputs": [
    {
     "name": "stdout",
     "output_type": "stream",
     "text": [
      "😍\n",
      "name is there\n"
     ]
    }
   ],
   "source": [
    "x= 10\n",
    "if x>=5:\n",
    "    print(\"😍\")\n",
    "\n",
    "\n",
    "name = \"Arpit\"\n",
    "if name:\n",
    "    print(\"name is there\")"
   ]
  },
  {
   "cell_type": "code",
   "execution_count": 6,
   "metadata": {},
   "outputs": [
    {
     "name": "stdout",
     "output_type": "stream",
     "text": [
      "a is not empty\n"
     ]
    }
   ],
   "source": [
    "a= \"Apple\"\n",
    "if len(a):\n",
    "    print(\"a is not empty\")\n",
    "else:\n",
    "    print(\"a is empty\")\n"
   ]
  },
  {
   "cell_type": "markdown",
   "metadata": {},
   "source": [
    "if elif Ladder"
   ]
  },
  {
   "cell_type": "code",
   "execution_count": 1,
   "metadata": {},
   "outputs": [
    {
     "name": "stdout",
     "output_type": "stream",
     "text": [
      "b is greater\n"
     ]
    }
   ],
   "source": [
    "a= 15\n",
    "b= 22\n",
    "c= 10\n",
    "\n",
    "if a>b and a>c:\n",
    "    print(\"a is greater\")\n",
    "elif(b>a and b>c):\n",
    "    print(\"b is greater\")\n",
    "else:\n",
    "    print(\"c is grater\")\n"
   ]
  },
  {
   "cell_type": "code",
   "execution_count": 6,
   "metadata": {},
   "outputs": [
    {
     "name": "stdout",
     "output_type": "stream",
     "text": [
      "  Student Marks = 99\n",
      " Student grade = A\n"
     ]
    }
   ],
   "source": [
    "marks= int(input(\"enter the marks\"))\n",
    "if marks >=90:\n",
    "    grade=\"A\"\n",
    "\n",
    "elif marks<90 and marks>=75:\n",
    "    grade= \"B\"\n",
    "elif marks<75 and marks>=60:\n",
    "    grade=\"C\"\n",
    "else:\n",
    "    Grade=\"D\"       \n",
    "print(f\"  Student Marks = {marks}\")\n",
    "print(f\" Student grade = {grade}\")"
   ]
  },
  {
   "cell_type": "code",
   "execution_count": null,
   "metadata": {},
   "outputs": [],
   "source": []
  }
 ],
 "metadata": {
  "kernelspec": {
   "display_name": "base",
   "language": "python",
   "name": "python3"
  },
  "language_info": {
   "codemirror_mode": {
    "name": "ipython",
    "version": 3
   },
   "file_extension": ".py",
   "mimetype": "text/x-python",
   "name": "python",
   "nbconvert_exporter": "python",
   "pygments_lexer": "ipython3",
   "version": "3.12.3"
  }
 },
 "nbformat": 4,
 "nbformat_minor": 2
}
