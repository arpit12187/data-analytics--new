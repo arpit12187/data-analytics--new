{
 "cells": [
  {
   "cell_type": "markdown",
   "metadata": {},
   "source": [
    "# Control flow\n",
    "### condition\n",
    "- if\n",
    "- if else\n",
    "- if elif \n",
    "- if elif ladder\n",
    "- match case\n",
    "- nested if\n",
    "\n",
    "### loops\n",
    "- for\n",
    "- while\n",
    "\n"
   ]
  },
  {
   "cell_type": "code",
   "execution_count": 5,
   "metadata": {},
   "outputs": [
    {
     "name": "stdout",
     "output_type": "stream",
     "text": [
      "😍\n",
      "name is there\n"
     ]
    }
   ],
   "source": [
    "x= 10\n",
    "if x>=5:\n",
    "    print(\"😍\")\n",
    "\n",
    "\n",
    "name = \"Arpit\"\n",
    "if name:\n",
    "    print(\"name is there\")"
   ]
  },
  {
   "cell_type": "code",
   "execution_count": 6,
   "metadata": {},
   "outputs": [
    {
     "name": "stdout",
     "output_type": "stream",
     "text": [
      "a is not empty\n"
     ]
    }
   ],
   "source": [
    "a= \"Apple\"\n",
    "if len(a):\n",
    "    print(\"a is not empty\")\n",
    "else:\n",
    "    print(\"a is empty\")\n"
   ]
  },
  {
   "cell_type": "code",
   "execution_count": null,
   "metadata": {},
   "outputs": [],
   "source": []
  }
 ],
 "metadata": {
  "kernelspec": {
   "display_name": "base",
   "language": "python",
   "name": "python3"
  },
  "language_info": {
   "codemirror_mode": {
    "name": "ipython",
    "version": 3
   },
   "file_extension": ".py",
   "mimetype": "text/x-python",
   "name": "python",
   "nbconvert_exporter": "python",
   "pygments_lexer": "ipython3",
   "version": "3.12.3"
  }
 },
 "nbformat": 4,
 "nbformat_minor": 2
}
