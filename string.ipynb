{
 "cells": [
  {
   "cell_type": "markdown",
   "metadata": {},
   "source": [
    "# string\n",
    "- creating\n",
    "- indexing\n",
    "- slicing\n",
    "- methods\n"
   ]
  },
  {
   "cell_type": "code",
   "execution_count": 2,
   "metadata": {},
   "outputs": [
    {
     "name": "stdout",
     "output_type": "stream",
     "text": [
      " sara lucknow hi my name is arpit\n"
     ]
    }
   ],
   "source": [
    "#creation\n",
    "\n",
    "a=''#(empty string)\n",
    "name='sara'\n",
    "city=\"lucknow\"\n",
    "message='''hi my name is arpit'''\n",
    "print(a, name, city, message)"
   ]
  },
  {
   "cell_type": "code",
   "execution_count": 3,
   "metadata": {},
   "outputs": [
    {
     "name": "stdout",
     "output_type": "stream",
     "text": [
      "|~~o~~||~~o~~||~~o~~||~~o~~||~~o~~||~~o~~||~~o~~||~~o~~||~~o~~||~~o~~|\n"
     ]
    }
   ],
   "source": [
    "# string duplication\n",
    "\n",
    "decoration= '|~~o~~|'* 10\n",
    "print(decoration)"
   ]
  },
  {
   "cell_type": "code",
   "execution_count": 5,
   "metadata": {},
   "outputs": [
    {
     "data": {
      "text/plain": [
       "'sara_lucknow'"
      ]
     },
     "execution_count": 5,
     "metadata": {},
     "output_type": "execute_result"
    }
   ],
   "source": [
    "#string concatenation\n",
    "\n",
    "name +\"_\"+city"
   ]
  },
  {
   "cell_type": "code",
   "execution_count": 8,
   "metadata": {},
   "outputs": [
    {
     "name": "stdout",
     "output_type": "stream",
     "text": [
      "<class 'str'>\n",
      "<class 'str'>\n"
     ]
    }
   ],
   "source": [
    "#casting\n",
    "a= str(5454848)\n",
    "b= str(True)\n",
    "print(type(a))\n",
    "print(type(b))"
   ]
  },
  {
   "cell_type": "code",
   "execution_count": 14,
   "metadata": {},
   "outputs": [
    {
     "name": "stdout",
     "output_type": "stream",
     "text": [
      "Arpit\n",
      "5\n",
      "A\n",
      "r\n",
      "p\n",
      "i\n",
      "t\n",
      "i\n"
     ]
    }
   ],
   "source": [
    "word= \"Arpit\"\n",
    "print(word)\n",
    "print(len(word))\n",
    "print(word[0])\n",
    "print(word[1])\n",
    "print(word[2])\n",
    "print(word[3])\n",
    "print(word[-1])#last\n",
    "print(word[-2])#second last"
   ]
  },
  {
   "cell_type": "markdown",
   "metadata": {},
   "source": [
    "slicing\n",
    "\n",
    "var[start:stop]# start from index and get slice till -1\n",
    "var [start: stop: step]\n",
    "var[: stop]\n",
    "var[start: ]"
   ]
  },
  {
   "cell_type": "code",
   "execution_count": 19,
   "metadata": {},
   "outputs": [
    {
     "name": "stdout",
     "output_type": "stream",
     "text": [
      "Arpit\n",
      "tiprA\n"
     ]
    }
   ],
   "source": [
    "print(word[0:])\n",
    "print(word[::-1])"
   ]
  },
  {
   "cell_type": "code",
   "execution_count": 27,
   "metadata": {},
   "outputs": [
    {
     "name": "stdout",
     "output_type": "stream",
     "text": [
      "vijay\n",
      "deenanath \n",
      "chauhan\n"
     ]
    }
   ],
   "source": [
    "name= \"vijay deenanath chauhan\"\n",
    "\n",
    "print(name[0:5])\n",
    "print(name[6:16])\n",
    "print(name[16:25])\n"
   ]
  },
  {
   "cell_type": "code",
   "execution_count": null,
   "metadata": {},
   "outputs": [],
   "source": []
  }
 ],
 "metadata": {
  "kernelspec": {
   "display_name": "base",
   "language": "python",
   "name": "python3"
  },
  "language_info": {
   "codemirror_mode": {
    "name": "ipython",
    "version": 3
   },
   "file_extension": ".py",
   "mimetype": "text/x-python",
   "name": "python",
   "nbconvert_exporter": "python",
   "pygments_lexer": "ipython3",
   "version": "3.12.3"
  }
 },
 "nbformat": 4,
 "nbformat_minor": 2
}
