{
 "cells": [
  {
   "cell_type": "markdown",
   "metadata": {},
   "source": [
    "# string\n",
    "- creating\n",
    "- indexing\n",
    "- slicing\n",
    "- methods\n"
   ]
  },
  {
   "cell_type": "code",
   "execution_count": 11,
   "metadata": {},
   "outputs": [
    {
     "name": "stdout",
     "output_type": "stream",
     "text": [
      " sara lucknow hi my name is arpit\n"
     ]
    }
   ],
   "source": [
    "#creation\n",
    "\n",
    "a=''#(empty string)\n",
    "name='sara'\n",
    "city=\"lucknow\"\n",
    "message='''hi my name is arpit'''\n",
    "print(a, name, city, message)"
   ]
  },
  {
   "cell_type": "code",
   "execution_count": 12,
   "metadata": {},
   "outputs": [
    {
     "name": "stdout",
     "output_type": "stream",
     "text": [
      "|~~o~~||~~o~~||~~o~~||~~o~~||~~o~~||~~o~~||~~o~~||~~o~~||~~o~~||~~o~~|\n"
     ]
    }
   ],
   "source": [
    "# string duplication\n",
    "\n",
    "decoration= '|~~o~~|'* 10\n",
    "print(decoration)"
   ]
  },
  {
   "cell_type": "code",
   "execution_count": 13,
   "metadata": {},
   "outputs": [
    {
     "data": {
      "text/plain": [
       "'sara_lucknow'"
      ]
     },
     "execution_count": 13,
     "metadata": {},
     "output_type": "execute_result"
    }
   ],
   "source": [
    "#string concatenation\n",
    "\n",
    "name +\"_\"+city"
   ]
  },
  {
   "cell_type": "code",
   "execution_count": 14,
   "metadata": {},
   "outputs": [
    {
     "name": "stdout",
     "output_type": "stream",
     "text": [
      "<class 'str'>\n",
      "<class 'str'>\n"
     ]
    }
   ],
   "source": [
    "#casting\n",
    "a= str(5454848)\n",
    "b= str(True)\n",
    "print(type(a))\n",
    "print(type(b))"
   ]
  },
  {
   "cell_type": "code",
   "execution_count": 15,
   "metadata": {},
   "outputs": [
    {
     "name": "stdout",
     "output_type": "stream",
     "text": [
      "Arpit\n",
      "5\n",
      "A\n",
      "r\n",
      "p\n",
      "i\n",
      "t\n",
      "i\n"
     ]
    }
   ],
   "source": [
    "word= \"Arpit\"\n",
    "print(word)\n",
    "print(len(word))\n",
    "print(word[0])\n",
    "print(word[1])\n",
    "print(word[2])\n",
    "print(word[3])\n",
    "print(word[-1])#last\n",
    "print(word[-2])#second last"
   ]
  },
  {
   "cell_type": "markdown",
   "metadata": {},
   "source": [
    "# slicing\n",
    "\n",
    "var[start:stop]# start from index and get slice till -1\n",
    "var [start: stop: step]\n",
    "var[: stop]\n",
    "var[start: ]"
   ]
  },
  {
   "cell_type": "code",
   "execution_count": 16,
   "metadata": {},
   "outputs": [
    {
     "name": "stdout",
     "output_type": "stream",
     "text": [
      "Arpit\n",
      "tiprA\n"
     ]
    }
   ],
   "source": [
    "print(word[0:])\n",
    "print(word[::-1])"
   ]
  },
  {
   "cell_type": "code",
   "execution_count": 17,
   "metadata": {},
   "outputs": [
    {
     "name": "stdout",
     "output_type": "stream",
     "text": [
      "vijay\n",
      "deenanath \n",
      "chauhan\n"
     ]
    }
   ],
   "source": [
    "name= \"vijay deenanath chauhan\"\n",
    "\n",
    "print(name[0:5])\n",
    "print(name[6:16])\n",
    "print(name[16:25])\n"
   ]
  },
  {
   "cell_type": "markdown",
   "metadata": {},
   "source": [
    "# string method( formatting, validation, Utility)\n",
    "- formatting\n"
   ]
  },
  {
   "cell_type": "code",
   "execution_count": 18,
   "metadata": {},
   "outputs": [
    {
     "name": "stdout",
     "output_type": "stream",
     "text": [
      "journey Before Destination\n",
      "JOURNEY BEFORE DESTINATION\n",
      "journey before destination\n",
      "Journey before destination\n",
      "Journey Before Destination\n",
      "JOURNEY bEFORE dESTINATION\n",
      "journey before destination\n"
     ]
    }
   ],
   "source": [
    "#formatting\n",
    "quote= \"journey Before Destination\"\n",
    "print(quote)\n",
    "print(quote.upper())\n",
    "print(quote.lower())\n",
    "print(quote.capitalize())#first letter of string will be capital\n",
    "print(quote.title())\n",
    "print(quote.swapcase())\n",
    "print(quote.casefold())"
   ]
  },
  {
   "cell_type": "code",
   "execution_count": 19,
   "metadata": {},
   "outputs": [
    {
     "name": "stdout",
     "output_type": "stream",
     "text": [
      "journey Before Destination                        \n",
      "journey Before Destination||||||||||||||||||||||||||||||||||||||||||||||||||||||\n",
      "                                                      journey Before Destination\n",
      "||||||||||||||||||||||||||||||||||||||||||||||||||||||journey Before Destination\n",
      "                           journey Before Destination                           \n"
     ]
    }
   ],
   "source": [
    "print(quote.ljust(50))\n",
    "print(quote.ljust(80,\"|\"))\n",
    "print(quote.rjust(80))\n",
    "print(quote.rjust(80,\"|\"))\n",
    "print(quote.center(80))"
   ]
  },
  {
   "cell_type": "markdown",
   "metadata": {},
   "source": [
    "- Validation"
   ]
  },
  {
   "cell_type": "code",
   "execution_count": 20,
   "metadata": {},
   "outputs": [
    {
     "name": "stdout",
     "output_type": "stream",
     "text": [
      "True\n",
      "False\n",
      "True\n",
      "False\n",
      "False\n",
      "True\n",
      "True\n",
      "True\n",
      "False\n",
      "True\n",
      "False\n"
     ]
    }
   ],
   "source": [
    "#validation\n",
    "\n",
    "print(\"123\".isdigit())\n",
    "print(\"1 23\".isdigit())\n",
    "print('apple'.isalpha())\n",
    "print('1apple'.isalpha())\n",
    "print('apple pie'.isalpha())\n",
    "print('apple123'.isalnum())\n",
    "print(\"123\".isalnum())\n",
    "print('cherry'.isalnum())\n",
    "print('cherry 123'.isnumeric())\n",
    "print(\" \".isspace())\n",
    "print('1 2 3'.isspace())"
   ]
  },
  {
   "cell_type": "code",
   "execution_count": 21,
   "metadata": {},
   "outputs": [
    {
     "name": "stdout",
     "output_type": "stream",
     "text": [
      "well done\n"
     ]
    }
   ],
   "source": [
    "num = input(\" Enter number \")\n",
    "if num.isnumeric():\n",
    "    num=int(num)\n",
    "    print(\"well done\")\n",
    "else:\n",
    "    print(\"go back to school\")"
   ]
  },
  {
   "cell_type": "code",
   "execution_count": 22,
   "metadata": {},
   "outputs": [
    {
     "name": "stdout",
     "output_type": "stream",
     "text": [
      "True\n",
      "False\n",
      "True\n",
      "False\n"
     ]
    }
   ],
   "source": [
    "print(\"apple\".startswith('a'))\n",
    "print(\"apple\".startswith('b'))\n",
    "print('apple'.endswith('e'))\n",
    "print(\"apple\".endswith('a'))"
   ]
  },
  {
   "cell_type": "code",
   "execution_count": 23,
   "metadata": {},
   "outputs": [
    {
     "name": "stdout",
     "output_type": "stream",
     "text": [
      "a.exe\n",
      "b.exe\n",
      "d.exe\n"
     ]
    }
   ],
   "source": [
    "apps=['a.exe','b.exe','c.pdf','d.exe']\n",
    "for app in apps:\n",
    "    if app.endswith('.exe'):\n",
    "        print(app)\n"
   ]
  },
  {
   "cell_type": "markdown",
   "metadata": {},
   "source": [
    "#utility\n",
    "- find\n",
    "- replace\n",
    "- count\n",
    "- strip\n",
    "\n",
    "- split\n",
    "- join"
   ]
  },
  {
   "cell_type": "markdown",
   "metadata": {},
   "source": [
    "- find Method"
   ]
  },
  {
   "cell_type": "code",
   "execution_count": 2,
   "metadata": {},
   "outputs": [
    {
     "name": "stdout",
     "output_type": "stream",
     "text": [
      "8\n",
      "-1\n",
      "-1\n",
      "20\n",
      "-1\n",
      "-1\n",
      "-1\n"
     ]
    }
   ],
   "source": [
    "quote= \"journey Before Destination\"\n",
    "print(quote.find('B'))\n",
    "print(quote.find('BEFORE'))\n",
    "print(quote.find('N'))\n",
    "print(quote.find('n',5))\n",
    "print(quote.find('I',1,10))\n",
    "print(quote.find('I',))\n",
    "print(quote.find('FOR DE'))"
   ]
  },
  {
   "cell_type": "markdown",
   "metadata": {},
   "source": [
    "- Replace Method"
   ]
  },
  {
   "cell_type": "code",
   "execution_count": 38,
   "metadata": {},
   "outputs": [
    {
     "name": "stdout",
     "output_type": "stream",
     "text": [
      "JOURNEY AFTER DESTINATION\n",
      "JOURNaY BaFORa DaSTINATION\n",
      "JOURNoY BoFORo DoSTINATION\n",
      "JOURN>>Y B>>FOR>> D>>STINATION\n",
      "SLEEPING BEFORE DESTINATION\n"
     ]
    }
   ],
   "source": [
    "quote= 'journey before destination'.upper()\n",
    "print(quote.replace('BEFORE','AFTER'))  \n",
    "print(quote.replace('E','a'))\n",
    "print(quote.replace(\"E\",'o'))\n",
    "print(quote.replace(\"E\",'>>'))\n",
    "\n",
    "quote= quote.replace(\"JOURNEY\",\"SLEEPING\")\n",
    "print(quote)"
   ]
  },
  {
   "cell_type": "markdown",
   "metadata": {},
   "source": [
    "- Count Method"
   ]
  },
  {
   "cell_type": "code",
   "execution_count": 41,
   "metadata": {},
   "outputs": [
    {
     "name": "stdout",
     "output_type": "stream",
     "text": [
      "5\n",
      "2\n"
     ]
    }
   ],
   "source": [
    "word= 'egg spam egg egg spam egg egg '\n",
    "print(word.count('egg'))\n",
    "print(word.count('spam'))"
   ]
  },
  {
   "cell_type": "markdown",
   "metadata": {},
   "source": [
    "- Strip Method"
   ]
  },
  {
   "cell_type": "code",
   "execution_count": 45,
   "metadata": {},
   "outputs": [
    {
     "name": "stdout",
     "output_type": "stream",
     "text": [
      " Alex mason\n",
      "Alex mason\n",
      "\n",
      "1255\n",
      "\n",
      "\n",
      "1255\n"
     ]
    }
   ],
   "source": [
    "name= ' Alex mason'\n",
    "print(name)\n",
    "print(name.strip())\n",
    "\n",
    "data='''\n",
    "1255\n",
    "\n",
    "'''\n",
    "print(data)\n",
    "print(data.strip())"
   ]
  },
  {
   "cell_type": "markdown",
   "metadata": {},
   "source": [
    "- Split Method"
   ]
  },
  {
   "cell_type": "code",
   "execution_count": 52,
   "metadata": {},
   "outputs": [
    {
     "name": "stdout",
     "output_type": "stream",
     "text": [
      "['a bb']\n",
      "['Twinkle twinkle little star', 'how i wonder what you are', 'up above the world so high']\n"
     ]
    }
   ],
   "source": [
    "word.split()\n",
    "print(\"a bb\".split(','))\n",
    "\n",
    "poem= '''\n",
    "\n",
    "Twinkle twinkle little star\n",
    "how i wonder what you are\n",
    "up above the world so high\n",
    "'''\n",
    "sen= poem.strip().splitlines()\n",
    "print(sen)\n"
   ]
  },
  {
   "cell_type": "code",
   "execution_count": 55,
   "metadata": {},
   "outputs": [
    {
     "name": "stdout",
     "output_type": "stream",
     "text": [
      "192.168.1.1\n"
     ]
    }
   ],
   "source": [
    "addr =['192','168', '1','1']\n",
    "ip_addr=\".\".join(addr)\n",
    "print(ip_addr)"
   ]
  }
 ],
 "metadata": {
  "kernelspec": {
   "display_name": "base",
   "language": "python",
   "name": "python3"
  },
  "language_info": {
   "codemirror_mode": {
    "name": "ipython",
    "version": 3
   },
   "file_extension": ".py",
   "mimetype": "text/x-python",
   "name": "python",
   "nbconvert_exporter": "python",
   "pygments_lexer": "ipython3",
   "version": "3.12.3"
  }
 },
 "nbformat": 4,
 "nbformat_minor": 2
}
