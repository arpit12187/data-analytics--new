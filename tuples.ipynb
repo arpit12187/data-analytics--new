{
 "cells": [
  {
   "cell_type": "markdown",
   "metadata": {},
   "source": [
    "# datastructure (tuple)\n",
    "\n",
    "- indexed\n",
    "- ordered\n",
    "- immutable\n",
    "- heterogenous\n",
    "- duplicates are allowed\n",
    "- represent()\n",
    "- tuple( for creating tuple)"
   ]
  },
  {
   "cell_type": "code",
   "execution_count": 3,
   "metadata": {},
   "outputs": [
    {
     "name": "stdout",
     "output_type": "stream",
     "text": [
      "<class 'tuple'> <class 'tuple'>\n",
      "<class 'tuple'> <class 'tuple'>\n",
      "(1, 2, 3, 4) (1,) ('a', 'b', 'c') (1, 2, 3, 4)\n"
     ]
    }
   ],
   "source": [
    "a=(1,2,3,4,5,6,7)\n",
    "b=(1,)\n",
    "c= ('a','b','c')\n",
    "d=1,2,3,4\n",
    "print(type(a),type(b))\n",
    "print(type(c),type(d))\n",
    "print(a,b,c,d)"
   ]
  },
  {
   "cell_type": "code",
   "execution_count": 4,
   "metadata": {},
   "outputs": [
    {
     "name": "stdout",
     "output_type": "stream",
     "text": [
      "1\n",
      "2\n",
      "3\n",
      "4\n"
     ]
    }
   ],
   "source": [
    "for i in a:\n",
    "    print(i)"
   ]
  },
  {
   "cell_type": "code",
   "execution_count": 6,
   "metadata": {},
   "outputs": [
    {
     "name": "stdout",
     "output_type": "stream",
     "text": [
      "1\n",
      "4\n"
     ]
    }
   ],
   "source": [
    "# indexing\n",
    "print(a[0])\n",
    "print(a[-1])"
   ]
  },
  {
   "cell_type": "code",
   "execution_count": 8,
   "metadata": {},
   "outputs": [
    {
     "name": "stdout",
     "output_type": "stream",
     "text": [
      "(2, 3)\n",
      "(4, 3, 2, 1)\n"
     ]
    }
   ],
   "source": [
    "# slicing \n",
    "print(a[1:3])\n",
    "print(a[::-1])"
   ]
  },
  {
   "cell_type": "markdown",
   "metadata": {},
   "source": [
    "# methods in tuple\n",
    "\n",
    "- count()\n",
    "- indexed"
   ]
  },
  {
   "cell_type": "code",
   "execution_count": 11,
   "metadata": {},
   "outputs": [
    {
     "name": "stdout",
     "output_type": "stream",
     "text": [
      "5\n",
      "5\n",
      "5\n"
     ]
    }
   ],
   "source": [
    "num=1,1,1,1,1,2,2,8,7,7,7,8,7,7\n",
    "print(num.count(1))\n",
    "print(num.count(7))\n",
    "print(num.index(2))"
   ]
  },
  {
   "cell_type": "markdown",
   "metadata": {},
   "source": [
    "# Tuple unpacking\n"
   ]
  },
  {
   "cell_type": "code",
   "execution_count": 17,
   "metadata": {},
   "outputs": [
    {
     "name": "stdout",
     "output_type": "stream",
     "text": [
      "1 2 3 4\n",
      "1 [2, 3, 4]\n",
      "1 2 [3, 4]\n"
     ]
    }
   ],
   "source": [
    "x=(1,2,3,4)\n",
    "a,b,c,d= x\n",
    "print(a,b,c,d)\n",
    "\n",
    "i,*j=x\n",
    "print(i,j)\n",
    "\n",
    "i,j,*k=x\n",
    "print(i,j,k)\n"
   ]
  },
  {
   "cell_type": "code",
   "execution_count": 18,
   "metadata": {},
   "outputs": [
    {
     "name": "stdout",
     "output_type": "stream",
     "text": [
      "<generator object <genexpr> at 0x0000028626D186C0>\n"
     ]
    }
   ],
   "source": [
    "x2=(i**2 for i in x)\n",
    "print(x2)\n"
   ]
  },
  {
   "cell_type": "code",
   "execution_count": null,
   "metadata": {},
   "outputs": [],
   "source": []
  }
 ],
 "metadata": {
  "kernelspec": {
   "display_name": "base",
   "language": "python",
   "name": "python3"
  },
  "language_info": {
   "codemirror_mode": {
    "name": "ipython",
    "version": 3
   },
   "file_extension": ".py",
   "mimetype": "text/x-python",
   "name": "python",
   "nbconvert_exporter": "python",
   "pygments_lexer": "ipython3",
   "version": "3.12.3"
  }
 },
 "nbformat": 4,
 "nbformat_minor": 2
}
