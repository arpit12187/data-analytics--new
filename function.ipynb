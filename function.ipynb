{
 "cells": [
  {
   "cell_type": "markdown",
   "metadata": {},
   "source": [
    "# functions\n",
    "- predefined function\n",
    " 1. built-in function\n",
    " 2. module function\n",
    "  a. python standard libraroes\n",
    "  b. 3rd party library\n",
    "\n",
    "- user defined function\n",
    " 1. non parametrised\n",
    " 2. function with return types\n",
    " 3. parametrised\n",
    "  a. required parameter\n",
    "  b. default argument\n",
    "  c. named argument\n",
    "  d. variable length argument\n",
    "  e. keyword variable length argumnet\n",
    "  "
   ]
  },
  {
   "cell_type": "code",
   "execution_count": 3,
   "metadata": {},
   "outputs": [],
   "source": [
    "#built in function"
   ]
  },
  {
   "cell_type": "code",
   "execution_count": 4,
   "metadata": {},
   "outputs": [
    {
     "data": {
      "text/plain": [
       "54"
      ]
     },
     "execution_count": 4,
     "metadata": {},
     "output_type": "execute_result"
    }
   ],
   "source": [
    "eval('5+7')\n",
    "x=5\n",
    "e= input('enter')\n",
    "eval(e)"
   ]
  },
  {
   "cell_type": "markdown",
   "metadata": {},
   "source": [
    "open() for file handling"
   ]
  },
  {
   "cell_type": "code",
   "execution_count": 5,
   "metadata": {},
   "outputs": [
    {
     "name": "stdout",
     "output_type": "stream",
     "text": [
      "{\n",
      " \"cells\": [\n",
      "  {\n",
      "   \"cell_type\": \"markdown\",\n",
      "   \"metadata\": {},\n",
      "   \"source\": [\n",
      "    \"# Data structure\\n\",\n",
      "    \"- creation\\n\",\n",
      "    \"- Indexing and slicing(same as string)\\n\",\n",
      "    \"- methods\\n\",\n",
      "    \"- list comprehension\"\n",
      "   ]\n",
      "  },\n",
      "  {\n",
      "   \"cell_type\": \"code\",\n",
      "   \"execution_count\": null,\n",
      "   \"metadata\": {},\n",
      "   \"outputs\": [],\n",
      "   \"source\": [\n",
      "    \"# creation\\n\",\n",
      "    \"x=[]\\n\",\n",
      "    \"num_list= [1,2,3]\\n\",\n",
      "    \"word_list= [\\\"apple\\\", \\\"banana\\\", \\\"guava\\\"]\\n\",\n",
      "    \"bool_list= [True, False]\\n\",\n",
      "    \"mixed_list= [1,2,'hey',3,'good']\\n\",\n",
      "    \"nested_list= [[1,3],[4,5]]\\n\",\n",
      "    \"\\n\"\n",
      "   ]\n",
      "  },\n",
      "  {\n",
      "   \"cell_type\": \"code\",\n",
      "   \"execution_count\": 1,\n",
      "   \"metadata\": {},\n",
      "   \"outputs\": [\n",
      "    {\n",
      "     \"name\": \"stdout\",\n",
      "     \"output_type\": \"stream\",\n",
      "     \"text\": [\n",
      "      \"[1, 4, 7, 10, 13]\\n\"\n",
      "     ]\n",
      "    }\n",
      "   ],\n",
      "   \"source\": [\n",
      "    \"y= list(range(1,16,3))\\n\",\n",
      "    \"print(y)\"\n",
      "   ]\n",
      "  },\n",
      "  {\n",
      "   \"cell_type\": \"code\",\n",
      "   \"execution_count\": 2,\n",
      "   \"metadata\": {},\n",
      "   \"outputs\": [\n",
      "    {\n",
      "     \"name\": \"stdout\",\n",
      "     \"output_type\": \"stream\",\n",
      "     \"text\": [\n",
      "      \"[[1, 2, 3], [4, 5, 6], [7, 8, 9]]\\n\"\n",
      "     ]\n",
      "    }\n",
      "   ],\n",
      "   \"source\": [\n",
      "    \"a=[1,2,3]\\n\",\n",
      "    \"b=[4,5,6]\\n\",\n",
      "    \"c=[7,8,9]\\n\",\n",
      "    \"mat=[a,b,c]\\n\",\n",
      "    \"print(mat)\"\n",
      "   ]\n",
      "  },\n",
      "  {\n",
      "   \"cell_type\": \"code\",\n",
      "   \"execution_count\": 4,\n",
      "   \"metadata\": {},\n",
      "   \"outputs\": [\n",
      "    {\n",
      "     \"name\": \"stdout\",\n",
      "     \"output_type\": \"stream\",\n",
      "     \"text\": [\n",
      "      \"[1, 1, 1, 1, 1, 1, 1, 1, 1, 1]\\n\"\n",
      "     ]\n",
      "    }\n",
      "   ],\n",
      "   \"source\": [\n",
      "    \"z=[1]*10\\n\",\n",
      "    \"print(z)\"\n",
      "   ]\n",
      "  },\n",
      "  {\n",
      "   \"cell_type\": \"markdown\",\n",
      "   \"metadata\": {},\n",
      "   \"source\": [\n",
      "    \"Rules for the list\\n\",\n",
      "    \"1. Indexed\\n\",\n",
      "    \"2. Ordered\\n\",\n",
      "    \"3. mutable\\n\",\n",
      "    \"4. hetrogenous datatype\\n\",\n",
      "    \"5. can have duplicate values\\n\",\n",
      "    \"6. represent with[]\\n\",\n",
      "    \"7. list() can be used to cast other datastructure to list\"\n",
      "   ]\n",
      "  },\n",
      "  {\n",
      "   \"cell_type\": \"code\",\n",
      "   \"execution_count\": 5,\n",
      "   \"metadata\": {},\n",
      "   \"outputs\": [\n",
      "    {\n",
      "     \"name\": \"stdout\",\n",
      "     \"output_type\": \"stream\",\n",
      "     \"text\": [\n",
      "      \"['Arpit', 'Satwik', 'naman', 'rajeev', 'manas']\\n\"\n",
      "     ]\n",
      "    }\n",
      "   ],\n",
      "   \"source\": [\n",
      "    \"names=['Arpit','Satwik','naman', 'rajeev','manas','priyanshu','piyush','Abhay', 'govind', 'sagar','rishi','ashu', 'ram']\\n\",\n",
      "    \"print(names[:5])\\n\"\n",
      "   ]\n",
      "  },\n",
      "  {\n",
      "   \"cell_type\": \"code\",\n",
      "   \"execution_count\": 7,\n",
      "   \"metadata\": {},\n",
      "   \"outputs\": [\n",
      "    {\n",
      "     \"name\": \"stdout\",\n",
      "     \"output_type\": \"stream\",\n",
      "     \"text\": [\n",
      "      \"['ram', 'ashu', 'rishi', 'sagar', 'govind', 'Abhay', 'piyush', 'priyanshu', 'manas', 'rajeev', 'naman', 'Satwik', 'Arpit']\\n\",\n",
      "      \"['Arpit', 'naman', 'manas', 'piyush', 'govind', 'rishi', 'ram']\\n\"\n",
      "     ]\n",
      "    }\n",
      "   ],\n",
      "   \"source\": [\n",
      "    \"print(names[::-1])#reverse\\n\",\n",
      "    \"print(names[::2])#even student\\n\",\n",
      "    \"print(names[1::2])# odd student\"\n",
      "   ]\n",
      "  },\n",
      "  {\n",
      "   \"cell_type\": \"code\",\n",
      "   \"execution_count\": 15,\n",
      "   \"metadata\": {},\n",
      "   \"outputs\": [\n",
      "    {\n",
      "     \"name\": \"stdout\",\n",
      "     \"output_type\": \"stream\",\n",
      "     \"text\": [\n",
      "      \"tiprA kiwtaS naman veejar sanam uhsnayirp hsuyip yahbA dnivog ragas ihsir uhsa mar \"\n",
      "     ]\n",
      "    }\n",
      "   ],\n",
      "   \"source\": [\n",
      "    \"for i in names:\\n\",\n",
      "    \"    print(i[::-1], end=' ')\\n\",\n",
      "    \"\\n\",\n",
      "    \"    9\"\n",
      "   ]\n",
      "  },\n",
      "  {\n",
      "   \"cell_type\": \"markdown\",\n",
      "   \"metadata\": {},\n",
      "   \"source\": [\n",
      "    \"# list methods\\n\",\n",
      "    \"1- add\\n\",\n",
      "    \" - append\\n\",\n",
      "    \" - extend\\n\",\n",
      "    \" - insert\\n\",\n",
      "    \"\\n\",\n",
      "    \"2- remove\\n\",\n",
      "    \" - remove\\n\",\n",
      "    \" - pop\\n\",\n",
      "    \" - clear\\n\",\n",
      "    \"\\n\",\n",
      "    \"3-utility\\n\",\n",
      "    \"  - reverse\\n\",\n",
      "    \"  - count\\n\",\n",
      "    \"  - index\\n\",\n",
      "    \"  - copy\"\n",
      "   ]\n",
      "  },\n",
      "  {\n",
      "   \"cell_type\": \"code\",\n",
      "   \"execution_count\": 18,\n",
      "   \"metadata\": {},\n",
      "   \"outputs\": [\n",
      "    {\n",
      "     \"name\": \"stdout\",\n",
      "     \"output_type\": \"stream\",\n",
      "     \"text\": [\n",
      "      \"['apple', 'banana', 'cherry', 'dragonfruits', ' elderberry', 'fig']\\n\"\n",
      "     ]\n",
      "    }\n",
      "   ],\n",
      "   \"source\": [\n",
      "    \"fruits=['apple','banana','cherry','dragonfruits', ' elderberry','fig']\\n\",\n",
      "    \"print(fruits)\\n\"\n",
      "   ]\n",
      "  },\n",
      "  {\n",
      "   \"cell_type\": \"code\",\n",
      "   \"execution_count\": 20,\n",
      "   \"metadata\": {},\n",
      "   \"outputs\": [\n",
      "    {\n",
      "     \"name\": \"stdout\",\n",
      "     \"output_type\": \"stream\",\n",
      "     \"text\": [\n",
      "      \"['apple', 'banana', 'cherry', 'dragonfruits', ' elderberry', 'fig', 'guava', 'guava']\\n\"\n",
      "     ]\n",
      "    }\n",
      "   ],\n",
      "   \"source\": [\n",
      "    \"fruits.append('guava')\\n\",\n",
      "    \"print(fruits)\\n\"\n",
      "   ]\n",
      "  },\n",
      "  {\n",
      "   \"cell_type\": \"code\",\n",
      "   \"execution_count\": 22,\n",
      "   \"metadata\": {},\n",
      "   \"outputs\": [\n",
      "    {\n",
      "     \"name\": \"stdout\",\n",
      "     \"output_type\": \"stream\",\n",
      "     \"text\": [\n",
      "      \"['apple', 'banana', 'cherry', 'dragonfruits', ' elderberry', 'fig', 'guava', 'guava', '[1,2,3]', '[1,2,3]']\\n\"\n",
      "     ]\n",
      "    }\n",
      "   ],\n",
      "   \"source\": [\n",
      "    \"fruits.append('[1,2,3]')\\n\",\n",
      "    \"print(fruits)\"\n",
      "   ]\n",
      "  },\n",
      "  {\n",
      "   \"cell_type\": \"code\",\n",
      "   \"execution_count\": 24,\n",
      "   \"metadata\": {},\n",
      "   \"outputs\": [\n",
      "    {\n",
      "     \"name\": \"stdout\",\n",
      "     \"output_type\": \"stream\",\n",
      "     \"text\": [\n",
      "      \"['apple', 'banana', 'cherry', 'dragonfruits', ' elderberry', 'fig', 'guava', 'guava', '[1,2,3]', '[1,2,3]', 1, 2, 3, 1, 2, 3]\\n\"\n",
      "     ]\n",
      "    }\n",
      "   ],\n",
      "   \"source\": [\n",
      "    \"fruits.extend([1,2,3])\\n\",\n",
      "    \"print(fruits)\"\n",
      "   ]\n",
      "  },\n",
      "  {\n",
      "   \"cell_type\": \"code\",\n",
      "   \"execution_count\": 28,\n",
      "   \"metadata\": {},\n",
      "   \"outputs\": [\n",
      "    {\n",
      "     \"name\": \"stdout\",\n",
      "     \"output_type\": \"stream\",\n",
      "     \"text\": [\n",
      "      \"[11, 12, 13, 15, 18, 20]\\n\"\n",
      "     ]\n",
      "    }\n",
      "   ],\n",
      "   \"source\": [\n",
      "    \"x= [11,12,14,15,18,20]\\n\",\n",
      "    \"x[2]= 13\\n\",\n",
      "    \"print(x)\\n\"\n",
      "   ]\n",
      "  },\n",
      "  {\n",
      "   \"cell_type\": \"code\",\n",
      "   \"execution_count\": 29,\n",
      "   \"metadata\": {},\n",
      "   \"outputs\": [\n",
      "    {\n",
      "     \"name\": \"stdout\",\n",
      "     \"output_type\": \"stream\",\n",
      "     \"text\": [\n",
      "      \"[11, 12, 13, 14, 15, 18, 20]\\n\"\n",
      "     ]\n",
      "    }\n",
      "   ],\n",
      "   \"source\": [\n",
      "    \"x.insert(3,14)\\n\",\n",
      "    \"print(x)\"\n",
      "   ]\n",
      "  },\n",
      "  {\n",
      "   \"cell_type\": \"code\",\n",
      "   \"execution_count\": 34,\n",
      "   \"metadata\": {},\n",
      "   \"outputs\": [\n",
      "    {\n",
      "     \"name\": \"stdout\",\n",
      "     \"output_type\": \"stream\",\n",
      "     \"text\": [\n",
      "      \"[11, 12, 13, 14, 15, 16, 17, 16, 16, 17, 16, 17, 16, 18, 20]\\n\",\n",
      "      \"[11, 12, 13, 14, 15, 16, 17, 16, 16, 17, 16, 17, 16, 17, 18, 20]\\n\"\n",
      "     ]\n",
      "    }\n",
      "   ],\n",
      "   \"source\": [\n",
      "    \"x.insert(-2,16)\\n\",\n",
      "    \"\\n\",\n",
      "    \"print(x)\\n\",\n",
      "    \"\\n\",\n",
      "    \"x.insert(-2,17)\\n\",\n",
      "    \"print(x)\"\n",
      "   ]\n",
      "  },\n",
      "  {\n",
      "   \"cell_type\": \"code\",\n",
      "   \"execution_count\": 37,\n",
      "   \"metadata\": {},\n",
      "   \"outputs\": [\n",
      "    {\n",
      "     \"name\": \"stdout\",\n",
      "     \"output_type\": \"stream\",\n",
      "     \"text\": [\n",
      "      \"[11, 12, 13, 15, 16, 17, 16, 16, 17, 16, 17, 16, 17, 18]\\n\"\n",
      "     ]\n",
      "    }\n",
      "   ],\n",
      "   \"source\": [\n",
      "    \"x.remove(20)\\n\",\n",
      "    \"print(x)\"\n",
      "   ]\n",
      "  },\n",
      "  {\n",
      "   \"cell_type\": \"code\",\n",
      "   \"execution_count\": 38,\n",
      "   \"metadata\": {},\n",
      "   \"outputs\": [\n",
      "    {\n",
      "     \"name\": \"stdout\",\n",
      "     \"output_type\": \"stream\",\n",
      "     \"text\": [\n",
      "      \"[1, 2, 3, 4]\\n\"\n",
      "     ]\n",
      "    }\n",
      "   ],\n",
      "   \"source\": [\n",
      "    \"x=[1,2,3,4,5]\\n\",\n",
      "    \"if 5 in x:\\n\",\n",
      "    \"    x.remove(5)\\n\",\n",
      "    \"if 6 in x:\\n\",\n",
      "    \"    x.remove(6)\\n\",\n",
      "    \"print(x)\"\n",
      "   ]\n",
      "  },\n",
      "  {\n",
      "   \"cell_type\": \"code\",\n",
      "   \"execution_count\": 41,\n",
      "   \"metadata\": {},\n",
      "   \"outputs\": [\n",
      "    {\n",
      "     \"name\": \"stdout\",\n",
      "     \"output_type\": \"stream\",\n",
      "     \"text\": [\n",
      "      \"[11, 12, 13, 14, 15]\\n\"\n",
      "     ]\n",
      "    }\n",
      "   ],\n",
      "   \"source\": [\n",
      "    \"# pop\\n\",\n",
      "    \"\\n\",\n",
      "    \"x= [11,12,13,14,15,16]\\n\",\n",
      "    \"x.pop()\\n\",\n",
      "    \"print(x)\"\n",
      "   ]\n",
      "  },\n",
      "  {\n",
      "   \"cell_type\": \"code\",\n",
      "   \"execution_count\": 43,\n",
      "   \"metadata\": {},\n",
      "   \"outputs\": [\n",
      "    {\n",
      "     \"name\": \"stdout\",\n",
      "     \"output_type\": \"stream\",\n",
      "     \"text\": [\n",
      "      \"[11, 12, 13]\\n\",\n",
      "      \"14\\n\"\n",
      "     ]\n",
      "    }\n",
      "   ],\n",
      "   \"source\": [\n",
      "    \"item= x.pop()\\n\",\n",
      "    \"print(x)\\n\",\n",
      "    \"print(item)\"\n",
      "   ]\n",
      "  },\n",
      "  {\n",
      "   \"cell_type\": \"code\",\n",
      "   \"execution_count\": 44,\n",
      "   \"metadata\": {},\n",
      "   \"outputs\": [\n",
      "    {\n",
      "     \"name\": \"stdout\",\n",
      "     \"output_type\": \"stream\",\n",
      "     \"text\": [\n",
      "      \"[3, 2, 1, 3, 2, 1, '[1,2,3]', '[1,2,3]', 'guava', 'guava', 'fig', ' elderberry', 'dragonfruits', 'cherry', 'banana', 'apple']\\n\"\n",
      "     ]\n",
      "    }\n",
      "   ],\n",
      "   \"source\": [\n",
      "    \"fruits.reverse()\\n\",\n",
      "    \"print(fruits)\"\n",
      "   ]\n",
      "  },\n",
      "  {\n",
      "   \"cell_type\": \"code\",\n",
      "   \"execution_count\": 48,\n",
      "   \"metadata\": {},\n",
      "   \"outputs\": [\n",
      "    {\n",
      "     \"name\": \"stdout\",\n",
      "     \"output_type\": \"stream\",\n",
      "     \"text\": [\n",
      "      \"[14, 31, 47, 54, 55, 58, 89, 99]\\n\",\n",
      "      \"[99, 89, 58, 55, 54, 47, 31, 14]\\n\"\n",
      "     ]\n",
      "    }\n",
      "   ],\n",
      "   \"source\": [\n",
      "    \"nums= [54,55,47,14,58,31,89,99]\\n\",\n",
      "    \"nums.sort()\\n\",\n",
      "    \"print(nums)\\n\",\n",
      "    \"\\n\",\n",
      "    \"nums.sort(reverse=True)\\n\",\n",
      "    \"print(nums)\"\n",
      "   ]\n",
      "  },\n",
      "  {\n",
      "   \"cell_type\": \"code\",\n",
      "   \"execution_count\": 49,\n",
      "   \"metadata\": {},\n",
      "   \"outputs\": [\n",
      "    {\n",
      "     \"name\": \"stdout\",\n",
      "     \"output_type\": \"stream\",\n",
      "     \"text\": [\n",
      "      \"0\\n\"\n",
      "     ]\n",
      "    }\n",
      "   ],\n",
      "   \"source\": [\n",
      "    \"print(x.count(31))\"\n",
      "   ]\n",
      "  },\n",
      "  {\n",
      "   \"cell_type\": \"code\",\n",
      "   \"execution_count\": 56,\n",
      "   \"metadata\": {},\n",
      "   \"outputs\": [\n",
      "    {\n",
      "     \"name\": \"stdout\",\n",
      "     \"output_type\": \"stream\",\n",
      "     \"text\": [\n",
      "      \"[3, 2, 1, 3, 2, 1, '[1,2,3]', '[1,2,3]', 'guava', 'guava', 'fig', ' elderberry', 'dragonfruits', 'cherry', 'banana', 'apple']\\n\",\n",
      "      \"15\\n\"\n",
      "     ]\n",
      "    }\n",
      "   ],\n",
      "   \"source\": [\n",
      "    \"print(fruits)\\n\",\n",
      "    \"print(fruits.index('apple'))\"\n",
      "   ]\n",
      "  },\n",
      "  {\n",
      "   \"cell_type\": \"code\",\n",
      "   \"execution_count\": 57,\n",
      "   \"metadata\": {},\n",
      "   \"outputs\": [\n",
      "    {\n",
      "     \"name\": \"stdout\",\n",
      "     \"output_type\": \"stream\",\n",
      "     \"text\": [\n",
      "      \"[1, 2, 3]\\n\",\n",
      "      \"False\\n\",\n",
      "      \"[1, 2, 3]\\n\",\n",
      "      \"<built-in method copy of list object at 0x000002BF2AE90240>\\n\"\n",
      "     ]\n",
      "    }\n",
      "   ],\n",
      "   \"source\": [\n",
      "    \"x=[1,2,3]\\n\",\n",
      "    \"y=x\\n\",\n",
      "    \"print(y)\\n\",\n",
      "    \"print(y in x)\\n\",\n",
      "    \"\\n\",\n",
      "    \"z=x.copy\\n\",\n",
      "    \"print(x)\\n\"\n",
      "   ]\n",
      "  },\n",
      "  {\n",
      "   \"cell_type\": \"code\",\n",
      "   \"execution_count\": 4,\n",
      "   \"metadata\": {},\n",
      "   \"outputs\": [\n",
      "    {\n",
      "     \"name\": \"stdout\",\n",
      "     \"output_type\": \"stream\",\n",
      "     \"text\": [\n",
      "      \"[1, 4, 9, 16]\\n\"\n",
      "     ]\n",
      "    }\n",
      "   ],\n",
      "   \"source\": [\n",
      "    \"x=[1,2,3,4]\\n\",\n",
      "    \"x2=[]\\n\",\n",
      "    \"for i in x:\\n\",\n",
      "    \"    s=i**2\\n\",\n",
      "    \"    x2.append(s)\\n\",\n",
      "    \"print(x2)\\n\"\n",
      "   ]\n",
      "  },\n",
      "  {\n",
      "   \"cell_type\": \"code\",\n",
      "   \"execution_count\": 5,\n",
      "   \"metadata\": {},\n",
      "   \"outputs\": [\n",
      "    {\n",
      "     \"name\": \"stdout\",\n",
      "     \"output_type\": \"stream\",\n",
      "     \"text\": [\n",
      "      \"[1, 4, 9, 16]\\n\"\n",
      "     ]\n",
      "    }\n",
      "   ],\n",
      "   \"source\": [\n",
      "    \"# list comprehension\\n\",\n",
      "    \"# syntax- new list= [operation  loop]\\n\",\n",
      "    \"newlist= [i**2 for i in x]\\n\",\n",
      "    \"print(x2)\"\n",
      "   ]\n",
      "  },\n",
      "  {\n",
      "   \"cell_type\": \"code\",\n",
      "   \"execution_count\": 6,\n",
      "   \"metadata\": {},\n",
      "   \"outputs\": [\n",
      "    {\n",
      "     \"name\": \"stdout\",\n",
      "     \"output_type\": \"stream\",\n",
      "     \"text\": [\n",
      "      \"[144, 196, 25, 400]\\n\"\n",
      "     ]\n",
      "    }\n",
      "   ],\n",
      "   \"source\": [\n",
      "    \"x1=[12,14,5,20]\\n\",\n",
      "    \"x2=[i**2 for i in x1]\\n\",\n",
      "    \"print(x2)\"\n",
      "   ]\n",
      "  },\n",
      "  {\n",
      "   \"cell_type\": \"code\",\n",
      "   \"execution_count\": 7,\n",
      "   \"metadata\": {},\n",
      "   \"outputs\": [\n",
      "    {\n",
      "     \"name\": \"stdout\",\n",
      "     \"output_type\": \"stream\",\n",
      "     \"text\": [\n",
      "      \"[36, 100, 400, 4]\\n\"\n",
      "     ]\n",
      "    }\n",
      "   ],\n",
      "   \"source\": [\n",
      "    \"# list comprehension with condition (syntax--- newlist=[operation loop condition]\\n\",\n",
      "    \"\\n\",\n",
      "    \"x=[1,3,6,7,10,11,20,2]\\n\",\n",
      "    \"x2=[i**2 for i in x if i%2==0]\\n\",\n",
      "    \"print(x2)\"\n",
      "   ]\n",
      "  },\n",
      "  {\n",
      "   \"cell_type\": \"code\",\n",
      "   \"execution_count\": 9,\n",
      "   \"metadata\": {},\n",
      "   \"outputs\": [\n",
      "    {\n",
      "     \"name\": \"stdout\",\n",
      "     \"output_type\": \"stream\",\n",
      "     \"text\": [\n",
      "      \"['at', 'sk', 'nn', 'rv', 'ms', 'pu', 'ph', 'ay', 'gd', 'sr', 'ri', 'au', 'rm']\\n\"\n",
      "     ]\n",
      "    }\n",
      "   ],\n",
      "   \"source\": [\n",
      "    \"names=['Arpit','Satwik','naman', 'rajeev','manas','priyanshu','piyush','Abhay', 'govind', 'sagar','rishi','ashu', 'ram']\\n\",\n",
      "    \"newname=[]\\n\",\n",
      "    \"for i in names:\\n\",\n",
      "    \"    m=i[0]+i[-1]\\n\",\n",
      "    \"    newname.append(m.lower())\\n\",\n",
      "    \"print(newname)\"\n",
      "   ]\n",
      "  },\n",
      "  {\n",
      "   \"cell_type\": \"code\",\n",
      "   \"execution_count\": 11,\n",
      "   \"metadata\": {},\n",
      "   \"outputs\": [\n",
      "    {\n",
      "     \"name\": \"stdout\",\n",
      "     \"output_type\": \"stream\",\n",
      "     \"text\": [\n",
      "      \"['at', 'sk', 'nn', 'rv', 'ms', 'pu', 'ph', 'ay', 'gd', 'sr', 'ri', 'au', 'rm']\\n\"\n",
      "     ]\n",
      "    }\n",
      "   ],\n",
      "   \"source\": [\n",
      "    \"newname=[(i[0]+i[-1]).lower() for i in names ]\\n\",\n",
      "    \"print(newname)\"\n",
      "   ]\n",
      "  },\n",
      "  {\n",
      "   \"cell_type\": \"code\",\n",
      "   \"execution_count\": null,\n",
      "   \"metadata\": {},\n",
      "   \"outputs\": [],\n",
      "   \"source\": []\n",
      "  }\n",
      " ],\n",
      " \"metadata\": {\n",
      "  \"kernelspec\": {\n",
      "   \"display_name\": \"base\",\n",
      "   \"language\": \"python\",\n",
      "   \"name\": \"python3\"\n",
      "  },\n",
      "  \"language_info\": {\n",
      "   \"codemirror_mode\": {\n",
      "    \"name\": \"ipython\",\n",
      "    \"version\": 3\n",
      "   },\n",
      "   \"file_extension\": \".py\",\n",
      "   \"mimetype\": \"text/x-python\",\n",
      "   \"name\": \"python\",\n",
      "   \"nbconvert_exporter\": \"python\",\n",
      "   \"pygments_lexer\": \"ipython3\",\n",
      "   \"version\": \"3.12.3\"\n",
      "  }\n",
      " },\n",
      " \"nbformat\": 4,\n",
      " \"nbformat_minor\": 2\n",
      "}\n",
      "\n"
     ]
    }
   ],
   "source": [
    "print(open('List.ipynb').read())"
   ]
  },
  {
   "cell_type": "code",
   "execution_count": 6,
   "metadata": {},
   "outputs": [
    {
     "name": "stdout",
     "output_type": "stream",
     "text": [
      "story =\"\"\n",
      "while True:\n",
      "    line= input(\" >>>> \")\n",
      "    if not line:\n",
      "        print(\"The end\")\n",
      "        break\n",
      "    story +=line+\"/n\"\n",
      "print(f\"Your story/n{story}\")\n",
      "\n",
      "\n",
      "\n"
     ]
    }
   ],
   "source": [
    "with open('story.py') as file:\n",
    "    c= file.read()\n",
    "print(c)"
   ]
  },
  {
   "cell_type": "code",
   "execution_count": 7,
   "metadata": {},
   "outputs": [
    {
     "name": "stdout",
     "output_type": "stream",
     "text": [
      "2\n",
      "5\n",
      "8\n",
      "1\n",
      "10\n",
      "1\n",
      "10\n",
      "9\n",
      "6\n",
      "4\n"
     ]
    }
   ],
   "source": [
    "# python standard library\n",
    "\n",
    "import random\n",
    "for i in range(10) :\n",
    "    a= random.randint(1,10)\n",
    "    print(a)"
   ]
  },
  {
   "cell_type": "code",
   "execution_count": 8,
   "metadata": {},
   "outputs": [
    {
     "name": "stdout",
     "output_type": "stream",
     "text": [
      "apple \n",
      "banana\n",
      "banana\n",
      "apple \n",
      "banana\n",
      "banana\n",
      "banana\n",
      "banana\n",
      "banana\n",
      "apple \n"
     ]
    }
   ],
   "source": [
    "fruits= ['apple ','banana']\n",
    "for i in range(10):\n",
    "    print(random.choice(fruits))"
   ]
  },
  {
   "cell_type": "code",
   "execution_count": 9,
   "metadata": {},
   "outputs": [
    {
     "name": "stdout",
     "output_type": "stream",
     "text": [
      "[3, 3, 6]\n",
      "[2, 3, 1, 6, 7]\n",
      "[5, 3, 1, 6, 2, 4]\n",
      "[5, 1, 4, 7, 2, 3, 6]\n"
     ]
    }
   ],
   "source": [
    "x=[1,2,3,4,5,6,7,]\n",
    "print(random.choices(x,k=3))\n",
    "print(random.choices(x,k=5))\n",
    "print(random.sample(x,k=6))\n",
    "random.shuffle(x)\n",
    "print(x)"
   ]
  },
  {
   "cell_type": "code",
   "execution_count": 10,
   "metadata": {},
   "outputs": [],
   "source": [
    "from datetime import datetime"
   ]
  },
  {
   "cell_type": "code",
   "execution_count": 11,
   "metadata": {},
   "outputs": [
    {
     "name": "stdout",
     "output_type": "stream",
     "text": [
      "2012-12-12 00:00:00\n"
     ]
    }
   ],
   "source": [
    "#12/12/2012\n",
    "doomsday= datetime(2012,12,12)\n",
    "print(doomsday)"
   ]
  },
  {
   "cell_type": "code",
   "execution_count": 12,
   "metadata": {},
   "outputs": [
    {
     "name": "stdout",
     "output_type": "stream",
     "text": [
      "1975-01-01 10:06:00\n"
     ]
    }
   ],
   "source": [
    "time=datetime(1975,1,1,10,6)\n",
    "print(time)"
   ]
  },
  {
   "cell_type": "code",
   "execution_count": 13,
   "metadata": {},
   "outputs": [
    {
     "name": "stdout",
     "output_type": "stream",
     "text": [
      "2024-08-27 21:32:24.643071\n"
     ]
    }
   ],
   "source": [
    "currday= datetime.now()\n",
    "print(currday)"
   ]
  },
  {
   "cell_type": "code",
   "execution_count": 14,
   "metadata": {},
   "outputs": [
    {
     "name": "stdout",
     "output_type": "stream",
     "text": [
      "1724774544.643071\n"
     ]
    }
   ],
   "source": [
    "timestamp= datetime.timestamp(currday)\n",
    "print(timestamp)\n"
   ]
  },
  {
   "cell_type": "code",
   "execution_count": 15,
   "metadata": {},
   "outputs": [
    {
     "name": "stdout",
     "output_type": "stream",
     "text": [
      "2024-08-27 21:32:24.677622\n",
      "2024-09-16 21:32:24.677622\n",
      "27/08/24\n",
      "21:32\n"
     ]
    }
   ],
   "source": [
    "from datetime import timedelta\n",
    "today= datetime.now()\n",
    "print(today)\n",
    "print(today+timedelta(days=20))\n",
    "\n",
    "# strftime\n",
    "print(today.strftime('%d/%m/%y'))\n",
    "print(today.strftime('%H:%M'))"
   ]
  },
  {
   "cell_type": "code",
   "execution_count": 16,
   "metadata": {},
   "outputs": [
    {
     "name": "stdout",
     "output_type": "stream",
     "text": [
      "c:\\Users\\HP\\OneDrive\\Documents\\data analytics  new\n"
     ]
    }
   ],
   "source": [
    "# os module\n",
    "import os\n",
    "BASE_DIR= os.getcwd()\n",
    "print(BASE_DIR)"
   ]
  },
  {
   "cell_type": "code",
   "execution_count": 17,
   "metadata": {},
   "outputs": [
    {
     "name": "stdout",
     "output_type": "stream",
     "text": [
      "['.git', 'Basics.ipynb', 'control_flow.ipynb', 'dictionary.ipynb', 'folder1', 'function.ipynb', 'input.ipynb', 'List.ipynb', 'practise.ipynb', 'registration.py', 'story.py', 'string.ipynb', 'tuples.ipynb']\n"
     ]
    }
   ],
   "source": [
    "print(os.listdir())"
   ]
  },
  {
   "cell_type": "code",
   "execution_count": 18,
   "metadata": {},
   "outputs": [
    {
     "name": "stdout",
     "output_type": "stream",
     "text": [
      "total 30\n"
     ]
    }
   ],
   "source": [
    "c= os.listdir('c:/program files')\n",
    "print(f'total {len(c)}')"
   ]
  },
  {
   "cell_type": "code",
   "execution_count": 19,
   "metadata": {},
   "outputs": [
    {
     "name": "stdout",
     "output_type": "stream",
     "text": [
      "path does not\n"
     ]
    }
   ],
   "source": [
    "address= 'c:/users/arpit/abc'\n",
    "if os.path.exists(address):\n",
    "    print('path exist')\n",
    "else:\n",
    "    print('path does not')"
   ]
  },
  {
   "cell_type": "code",
   "execution_count": 20,
   "metadata": {},
   "outputs": [],
   "source": [
    "if not os.path.exists('folder1'):\n",
    "    os.mkdir('folder1')"
   ]
  },
  {
   "cell_type": "code",
   "execution_count": 21,
   "metadata": {},
   "outputs": [],
   "source": [
    "os.makedirs('folder1/folder2/folder3', exist_ok=True)"
   ]
  },
  {
   "cell_type": "markdown",
   "metadata": {},
   "source": [
    "# user defined function\n",
    "- reusable \n",
    "- easy to debug\n",
    "- easy to read"
   ]
  },
  {
   "cell_type": "code",
   "execution_count": 22,
   "metadata": {},
   "outputs": [],
   "source": [
    "def calculate_area(length, breadth):\n",
    "    area= length*breadth\n",
    "    return area\n"
   ]
  },
  {
   "cell_type": "code",
   "execution_count": 23,
   "metadata": {},
   "outputs": [
    {
     "data": {
      "text/plain": [
       "2000"
      ]
     },
     "execution_count": 23,
     "metadata": {},
     "output_type": "execute_result"
    }
   ],
   "source": [
    "calculate_area(100,20)"
   ]
  },
  {
   "cell_type": "markdown",
   "metadata": {},
   "source": [
    "Types of function\n",
    "\n",
    "1. on the basis of return type\n",
    "  a. return type\n",
    "  b. non return type\n",
    "  \n",
    "2. non parametrised\n",
    "3. on the basis of parameter\n",
    "\n",
    "  a. required parameter\n",
    "  b. default parameter\n",
    "  c. variable length argument\n",
    "  d. keyword variable length argument"
   ]
  },
  {
   "cell_type": "code",
   "execution_count": 24,
   "metadata": {},
   "outputs": [],
   "source": [
    "def roll_dice():\n",
    "    import random\n",
    "    print(f'Rolled {random.randint(1,6)}')"
   ]
  },
  {
   "cell_type": "code",
   "execution_count": 25,
   "metadata": {},
   "outputs": [
    {
     "name": "stdout",
     "output_type": "stream",
     "text": [
      "Rolled 3\n",
      "Rolled 2\n",
      "Rolled 6\n"
     ]
    }
   ],
   "source": [
    "roll_dice()\n",
    "roll_dice()\n",
    "roll_dice()"
   ]
  },
  {
   "cell_type": "code",
   "execution_count": 26,
   "metadata": {},
   "outputs": [],
   "source": [
    "def count_files_in_Current_folder():\n",
    "    import os\n",
    "    size= len(os.listdir())\n",
    "    print(f'Folder: {os.getcwd().split('\\\\')[-1]}')\n",
    "    print(f'Total files n folder :{size}')\n"
   ]
  },
  {
   "cell_type": "code",
   "execution_count": 27,
   "metadata": {},
   "outputs": [
    {
     "name": "stdout",
     "output_type": "stream",
     "text": [
      "Folder: data analytics  new\n",
      "Total files n folder :13\n"
     ]
    }
   ],
   "source": [
    "count_files_in_Current_folder()"
   ]
  },
  {
   "cell_type": "code",
   "execution_count": 28,
   "metadata": {},
   "outputs": [
    {
     "name": "stdout",
     "output_type": "stream",
     "text": [
      "5\n",
      "Folder: data analytics  new\n",
      "Total files n folder :13\n",
      "None\n"
     ]
    }
   ],
   "source": [
    "s= len('hello')\n",
    "print(s)\n",
    "\n",
    "c= count_files_in_Current_folder()\n",
    "print(c)"
   ]
  },
  {
   "cell_type": "code",
   "execution_count": 29,
   "metadata": {},
   "outputs": [],
   "source": [
    "def word_count(sentence):\n",
    "    words= sentence.split()\n",
    "    return len(words)"
   ]
  },
  {
   "cell_type": "code",
   "execution_count": 30,
   "metadata": {},
   "outputs": [
    {
     "name": "stdout",
     "output_type": "stream",
     "text": [
      "5\n",
      "4\n",
      "9\n"
     ]
    }
   ],
   "source": [
    "c= word_count('hi my name is arpit')\n",
    "print(c)\n",
    "\n",
    "c2= word_count('we are learning python')\n",
    "print(c2)\n",
    "\n",
    "print(c+c2)"
   ]
  },
  {
   "cell_type": "code",
   "execution_count": 31,
   "metadata": {},
   "outputs": [
    {
     "name": "stdout",
     "output_type": "stream",
     "text": [
      "392.69908169872417\n"
     ]
    }
   ],
   "source": [
    "def area_of_circle(radius):\n",
    "    import math\n",
    "    area= math.pi*radius**2\n",
    "    return area\n",
    "print(area_of_circle(5)+area_of_circle(10))"
   ]
  },
  {
   "cell_type": "code",
   "execution_count": 32,
   "metadata": {},
   "outputs": [],
   "source": [
    "def task(items,action):\n",
    "    if action=='count':\n",
    "        return len(items)\n",
    "    elif action=='sum':\n",
    "        return sum(items)\n",
    "    elif action=='mean':\n",
    "        return sum(items)/len(items)\n",
    "    else:\n",
    "        return\"Invalid action\""
   ]
  },
  {
   "cell_type": "code",
   "execution_count": 33,
   "metadata": {},
   "outputs": [
    {
     "name": "stdout",
     "output_type": "stream",
     "text": [
      "3\n"
     ]
    }
   ],
   "source": [
    "t1= task([23,45,56],'count')\n",
    "print(t1)"
   ]
  },
  {
   "cell_type": "code",
   "execution_count": 34,
   "metadata": {},
   "outputs": [],
   "source": [
    "def get_stats(numList):\n",
    "    size= len(numList)\n",
    "    total= sum(numList)\n",
    "    mean= total/size\n",
    "    mx= max(numList)\n",
    "    mn= min(numList)\n",
    "    return size, total, mean, mx,mn"
   ]
  },
  {
   "cell_type": "code",
   "execution_count": 35,
   "metadata": {},
   "outputs": [
    {
     "data": {
      "text/plain": [
       "(4, 15, 3.75, 6, 1)"
      ]
     },
     "execution_count": 35,
     "metadata": {},
     "output_type": "execute_result"
    }
   ],
   "source": [
    "get_stats([1,3,5,6])"
   ]
  },
  {
   "cell_type": "code",
   "execution_count": 36,
   "metadata": {},
   "outputs": [],
   "source": [
    "def get_stats(numList):\n",
    "    size= len(numList)\n",
    "    total= sum(numList)\n",
    "    mean= total/size\n",
    "    mx= max(numList)\n",
    "    mn= min(numList)\n",
    "    return{\n",
    "        'size': size,'total':total,\n",
    "        'mean': mean, 'max':mx,'min':mn\n",
    "    }"
   ]
  },
  {
   "cell_type": "code",
   "execution_count": 37,
   "metadata": {},
   "outputs": [
    {
     "data": {
      "text/plain": [
       "{'size': 5, 'total': 16, 'mean': 3.2, 'max': 6, 'min': 1}"
      ]
     },
     "execution_count": 37,
     "metadata": {},
     "output_type": "execute_result"
    }
   ],
   "source": [
    "get_stats([1,3,5,6,1])"
   ]
  },
  {
   "cell_type": "code",
   "execution_count": 38,
   "metadata": {},
   "outputs": [
    {
     "ename": "TypeError",
     "evalue": "get_stats() missing 1 required positional argument: 'numList'",
     "output_type": "error",
     "traceback": [
      "\u001b[1;31m---------------------------------------------------------------------------\u001b[0m",
      "\u001b[1;31mTypeError\u001b[0m                                 Traceback (most recent call last)",
      "Cell \u001b[1;32mIn[38], line 1\u001b[0m\n\u001b[1;32m----> 1\u001b[0m get_stats()\n",
      "\u001b[1;31mTypeError\u001b[0m: get_stats() missing 1 required positional argument: 'numList'"
     ]
    }
   ],
   "source": [
    "get_stats()"
   ]
  },
  {
   "cell_type": "code",
   "execution_count": null,
   "metadata": {},
   "outputs": [],
   "source": [
    "def adder(a,b,c):\n",
    "    return a+b+c"
   ]
  },
  {
   "cell_type": "code",
   "execution_count": null,
   "metadata": {},
   "outputs": [],
   "source": [
    "print(adder(2,1,2))\n",
    "print(adder(b=5,c=10,a= 3))"
   ]
  },
  {
   "cell_type": "code",
   "execution_count": null,
   "metadata": {},
   "outputs": [],
   "source": [
    "def adder_v2(a,b,c=10):\n",
    "    return a+b+c\n",
    "    "
   ]
  },
  {
   "cell_type": "code",
   "execution_count": null,
   "metadata": {},
   "outputs": [],
   "source": [
    "print(adder_v2(10,20))\n",
    "print(adder_v2(10,20,20))\n",
    "print(adder_v2(10,21,c=16))\n",
    "print(adder_v2(a=10,b=22,c=50))"
   ]
  },
  {
   "cell_type": "markdown",
   "metadata": {},
   "source": [
    "# adavance parameter\n",
    "- variable aRGUMENT\n",
    "- KEYWORD variable "
   ]
  },
  {
   "cell_type": "code",
   "execution_count": 39,
   "metadata": {},
   "outputs": [],
   "source": [
    "def multiply(*nums):\n",
    "    print(nums)\n",
    "    print(len(nums))"
   ]
  },
  {
   "cell_type": "code",
   "execution_count": 40,
   "metadata": {},
   "outputs": [
    {
     "name": "stdout",
     "output_type": "stream",
     "text": [
      "(1, 5, 85, 5, 5, 5, 4, 8, 5, 74)\n",
      "10\n"
     ]
    }
   ],
   "source": [
    "multiply(1,5,85,5,5,5,4,8,5,74)"
   ]
  },
  {
   "cell_type": "code",
   "execution_count": 41,
   "metadata": {},
   "outputs": [
    {
     "name": "stdout",
     "output_type": "stream",
     "text": [
      "\n",
      "apple\n",
      "apple 1 2 3\n"
     ]
    }
   ],
   "source": [
    "print()\n",
    "print('apple')\n",
    "print('apple',1,2,3)\n"
   ]
  },
  {
   "cell_type": "code",
   "execution_count": 43,
   "metadata": {},
   "outputs": [],
   "source": [
    "def getlength(*args):\n",
    "    result= []\n",
    "    for item in args:\n",
    "        result.append(len(item))\n",
    "    return result"
   ]
  },
  {
   "cell_type": "code",
   "execution_count": 44,
   "metadata": {},
   "outputs": [
    {
     "data": {
      "text/plain": [
       "[5, 6, 4, 6]"
      ]
     },
     "execution_count": 44,
     "metadata": {},
     "output_type": "execute_result"
    }
   ],
   "source": [
    "getlength('apple','banana','word','cherry')"
   ]
  },
  {
   "cell_type": "code",
   "execution_count": 45,
   "metadata": {},
   "outputs": [],
   "source": [
    "# **kwargs \n",
    "def calc_expense(**data):\n",
    "    print(data)\n",
    "    print(len(data))"
   ]
  },
  {
   "cell_type": "code",
   "execution_count": 46,
   "metadata": {},
   "outputs": [
    {
     "name": "stdout",
     "output_type": "stream",
     "text": [
      "{'a': 100, 'b': 200, 'c': 300}\n",
      "3\n"
     ]
    }
   ],
   "source": [
    "calc_expense(a=100,b=200,c=300)"
   ]
  },
  {
   "cell_type": "code",
   "execution_count": 47,
   "metadata": {},
   "outputs": [],
   "source": [
    "def laptop_info(filename='laptopo.txt',**specs):\n",
    "    with open (filename,'w')as f:\n",
    "        for key,value in specs.items():\n",
    "            f.write(f'{key}:{value}/n')\n",
    "        print('specs saved')"
   ]
  },
  {
   "cell_type": "code",
   "execution_count": 48,
   "metadata": {},
   "outputs": [
    {
     "name": "stdout",
     "output_type": "stream",
     "text": [
      "specs saved\n",
      "specs saved\n",
      "specs saved\n"
     ]
    }
   ],
   "source": [
    "laptop_info('old_laptop.txt',brand='lenovo',model='ideapad',ram='4gb',os='linux')\n",
    "\n",
    "laptop_info('new_laptop.txt',\n",
    "            mode='legion 5 pro',\n",
    "            ram='16 gb',\n",
    "            graphics='rtx 3060')\n",
    "laptop_info()"
   ]
  },
  {
   "cell_type": "markdown",
   "metadata": {},
   "source": [
    "anonymous function"
   ]
  },
  {
   "cell_type": "code",
   "execution_count": 49,
   "metadata": {},
   "outputs": [
    {
     "name": "stdout",
     "output_type": "stream",
     "text": [
      "<function <lambda> at 0x00000250D6B00D60>\n"
     ]
    }
   ],
   "source": [
    "f= lambda x:x**2+10\n",
    "print(f)"
   ]
  },
  {
   "cell_type": "code",
   "execution_count": 50,
   "metadata": {},
   "outputs": [
    {
     "data": {
      "text/plain": [
       "46"
      ]
     },
     "execution_count": 50,
     "metadata": {},
     "output_type": "execute_result"
    }
   ],
   "source": [
    "f(6)"
   ]
  },
  {
   "cell_type": "code",
   "execution_count": 51,
   "metadata": {},
   "outputs": [
    {
     "data": {
      "text/plain": [
       "130.0"
      ]
     },
     "execution_count": 51,
     "metadata": {},
     "output_type": "execute_result"
    }
   ],
   "source": [
    "g= lambda a,b: a+b +a*b/2\n",
    "g(10,20)"
   ]
  },
  {
   "cell_type": "markdown",
   "metadata": {},
   "source": [
    "map and filter"
   ]
  },
  {
   "cell_type": "code",
   "execution_count": 52,
   "metadata": {},
   "outputs": [
    {
     "data": {
      "text/plain": [
       "<map at 0x250d5cb39a0>"
      ]
     },
     "execution_count": 52,
     "metadata": {},
     "output_type": "execute_result"
    }
   ],
   "source": [
    "data= ['1','2','3']\n",
    "map(int,data)"
   ]
  },
  {
   "cell_type": "code",
   "execution_count": 53,
   "metadata": {},
   "outputs": [
    {
     "data": {
      "text/plain": [
       "[1, 2, 3]"
      ]
     },
     "execution_count": 53,
     "metadata": {},
     "output_type": "execute_result"
    }
   ],
   "source": [
    "data= ['1','2','3']\n",
    "list(map(int,data))"
   ]
  },
  {
   "cell_type": "code",
   "execution_count": 54,
   "metadata": {},
   "outputs": [
    {
     "data": {
      "text/plain": [
       "{1, 2, 3}"
      ]
     },
     "execution_count": 54,
     "metadata": {},
     "output_type": "execute_result"
    }
   ],
   "source": [
    "data= ['1','2','3']\n",
    "set(map(int,data))"
   ]
  },
  {
   "cell_type": "code",
   "execution_count": 55,
   "metadata": {},
   "outputs": [
    {
     "data": {
      "text/plain": [
       "[1, 4, 9, 16, 25, 36]"
      ]
     },
     "execution_count": 55,
     "metadata": {},
     "output_type": "execute_result"
    }
   ],
   "source": [
    "data=[1,2,3,4,5,6]\n",
    "list(map(lambda n: n**2, data))"
   ]
  },
  {
   "cell_type": "code",
   "execution_count": 56,
   "metadata": {},
   "outputs": [
    {
     "name": "stdout",
     "output_type": "stream",
     "text": [
      "1\n",
      "4\n",
      "9\n",
      "16\n",
      "25\n",
      "36\n"
     ]
    }
   ],
   "source": [
    "for i in map(lambda n: n**2, data):\n",
    "    print(i)"
   ]
  },
  {
   "cell_type": "markdown",
   "metadata": {},
   "source": [
    "Generator"
   ]
  },
  {
   "cell_type": "code",
   "execution_count": 57,
   "metadata": {},
   "outputs": [],
   "source": [
    "def getlength(*args):\n",
    "    for item in args:\n",
    "        yield len(item)"
   ]
  }
 ],
 "metadata": {
  "kernelspec": {
   "display_name": "base",
   "language": "python",
   "name": "python3"
  },
  "language_info": {
   "codemirror_mode": {
    "name": "ipython",
    "version": 3
   },
   "file_extension": ".py",
   "mimetype": "text/x-python",
   "name": "python",
   "nbconvert_exporter": "python",
   "pygments_lexer": "ipython3",
   "version": "3.12.3"
  }
 },
 "nbformat": 4,
 "nbformat_minor": 2
}
