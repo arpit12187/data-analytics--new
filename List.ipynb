{
 "cells": [
  {
   "cell_type": "markdown",
   "metadata": {},
   "source": [
    "# Data structure\n",
    "- creation\n",
    "- Indexing and slicing(same as string)\n",
    "- methods\n",
    "- list comprehension"
   ]
  },
  {
   "cell_type": "code",
   "execution_count": null,
   "metadata": {},
   "outputs": [],
   "source": [
    "# creation\n",
    "x=[]\n",
    "num_list= [1,2,3]\n",
    "word_list= [\"apple\", \"banana\", \"guava\"]\n",
    "bool_list= [True, False]\n",
    "mixed_list= [1,2,'hey',3,'good']\n",
    "nested_list= [[1,3],[4,5]]\n",
    "\n"
   ]
  },
  {
   "cell_type": "code",
   "execution_count": 1,
   "metadata": {},
   "outputs": [
    {
     "name": "stdout",
     "output_type": "stream",
     "text": [
      "[1, 4, 7, 10, 13]\n"
     ]
    }
   ],
   "source": [
    "y= list(range(1,16,3))\n",
    "print(y)"
   ]
  },
  {
   "cell_type": "code",
   "execution_count": 2,
   "metadata": {},
   "outputs": [
    {
     "name": "stdout",
     "output_type": "stream",
     "text": [
      "[[1, 2, 3], [4, 5, 6], [7, 8, 9]]\n"
     ]
    }
   ],
   "source": [
    "a=[1,2,3]\n",
    "b=[4,5,6]\n",
    "c=[7,8,9]\n",
    "mat=[a,b,c]\n",
    "print(mat)"
   ]
  },
  {
   "cell_type": "code",
   "execution_count": 4,
   "metadata": {},
   "outputs": [
    {
     "name": "stdout",
     "output_type": "stream",
     "text": [
      "[1, 1, 1, 1, 1, 1, 1, 1, 1, 1]\n"
     ]
    }
   ],
   "source": [
    "z=[1]*10\n",
    "print(z)"
   ]
  },
  {
   "cell_type": "markdown",
   "metadata": {},
   "source": [
    "Rules for the list\n",
    "1. Indexed\n",
    "2. Ordered\n",
    "3. mutable\n",
    "4. hetrogenous datatype\n",
    "5. can have duplicate values\n",
    "6. represent with[]\n",
    "7. list() can be used to cast other datastructure to list"
   ]
  },
  {
   "cell_type": "code",
   "execution_count": 5,
   "metadata": {},
   "outputs": [
    {
     "name": "stdout",
     "output_type": "stream",
     "text": [
      "['Arpit', 'Satwik', 'naman', 'rajeev', 'manas']\n"
     ]
    }
   ],
   "source": [
    "names=['Arpit','Satwik','naman', 'rajeev','manas','priyanshu','piyush','Abhay', 'govind', 'sagar','rishi','ashu', 'ram']\n",
    "print(names[:5])\n"
   ]
  },
  {
   "cell_type": "code",
   "execution_count": 7,
   "metadata": {},
   "outputs": [
    {
     "name": "stdout",
     "output_type": "stream",
     "text": [
      "['ram', 'ashu', 'rishi', 'sagar', 'govind', 'Abhay', 'piyush', 'priyanshu', 'manas', 'rajeev', 'naman', 'Satwik', 'Arpit']\n",
      "['Arpit', 'naman', 'manas', 'piyush', 'govind', 'rishi', 'ram']\n"
     ]
    }
   ],
   "source": [
    "print(names[::-1])#reverse\n",
    "print(names[::2])#even student\n",
    "print(names[1::2])# odd student"
   ]
  },
  {
   "cell_type": "code",
   "execution_count": 15,
   "metadata": {},
   "outputs": [
    {
     "name": "stdout",
     "output_type": "stream",
     "text": [
      "tiprA kiwtaS naman veejar sanam uhsnayirp hsuyip yahbA dnivog ragas ihsir uhsa mar "
     ]
    }
   ],
   "source": [
    "for i in names:\n",
    "    print(i[::-1], end=' ')\n",
    "\n",
    "    9"
   ]
  },
  {
   "cell_type": "markdown",
   "metadata": {},
   "source": [
    "# list methods\n",
    "1- add\n",
    " - append\n",
    " - extend\n",
    " - insert\n",
    "\n",
    "2- remove\n",
    " - remove\n",
    " - pop\n",
    " - clear\n",
    "\n",
    "3-utility\n",
    "  - reverse\n",
    "  - count\n",
    "  - index\n",
    "  - copy"
   ]
  },
  {
   "cell_type": "code",
   "execution_count": 3,
   "metadata": {},
   "outputs": [
    {
     "name": "stdout",
     "output_type": "stream",
     "text": [
      "['apple', 'banana', 'cherry', 'dragonfruits', ' elderberry', 'fig']\n"
     ]
    }
   ],
   "source": [
    "fruits=['apple','banana','cherry','dragonfruits', ' elderberry','fig']\n",
    "print(fruits)\n"
   ]
  },
  {
   "cell_type": "markdown",
   "metadata": {},
   "source": [
    "- Append"
   ]
  },
  {
   "cell_type": "code",
   "execution_count": 7,
   "metadata": {},
   "outputs": [
    {
     "name": "stdout",
     "output_type": "stream",
     "text": [
      "['apple', 'banana', 'cherry', 'dragonfruits', ' elderberry', 'fig', ['guava'], 'guava', 'guava']\n"
     ]
    }
   ],
   "source": [
    "fruits.append('guava')\n",
    "print(fruits)"
   ]
  },
  {
   "cell_type": "code",
   "execution_count": 22,
   "metadata": {},
   "outputs": [
    {
     "name": "stdout",
     "output_type": "stream",
     "text": [
      "['apple', 'banana', 'cherry', 'dragonfruits', ' elderberry', 'fig', 'guava', 'guava', '[1,2,3]', '[1,2,3]']\n"
     ]
    }
   ],
   "source": [
    "fruits.append('[1,2,3]')\n",
    "print(fruits)"
   ]
  },
  {
   "cell_type": "markdown",
   "metadata": {},
   "source": [
    "- Extend"
   ]
  },
  {
   "cell_type": "code",
   "execution_count": 24,
   "metadata": {},
   "outputs": [
    {
     "name": "stdout",
     "output_type": "stream",
     "text": [
      "['apple', 'banana', 'cherry', 'dragonfruits', ' elderberry', 'fig', 'guava', 'guava', '[1,2,3]', '[1,2,3]', 1, 2, 3, 1, 2, 3]\n"
     ]
    }
   ],
   "source": [
    "fruits.extend([1,2,3])\n",
    "print(fruits)"
   ]
  },
  {
   "cell_type": "code",
   "execution_count": 28,
   "metadata": {},
   "outputs": [
    {
     "name": "stdout",
     "output_type": "stream",
     "text": [
      "[11, 12, 13, 15, 18, 20]\n"
     ]
    }
   ],
   "source": [
    "x= [11,12,14,15,18,20]\n",
    "x[2]= 13\n",
    "print(x)\n"
   ]
  },
  {
   "cell_type": "code",
   "execution_count": 29,
   "metadata": {},
   "outputs": [
    {
     "name": "stdout",
     "output_type": "stream",
     "text": [
      "[11, 12, 13, 14, 15, 18, 20]\n"
     ]
    }
   ],
   "source": [
    "x.insert(3,14)\n",
    "print(x)"
   ]
  },
  {
   "cell_type": "code",
   "execution_count": 34,
   "metadata": {},
   "outputs": [
    {
     "name": "stdout",
     "output_type": "stream",
     "text": [
      "[11, 12, 13, 14, 15, 16, 17, 16, 16, 17, 16, 17, 16, 18, 20]\n",
      "[11, 12, 13, 14, 15, 16, 17, 16, 16, 17, 16, 17, 16, 17, 18, 20]\n"
     ]
    }
   ],
   "source": [
    "x.insert(-2,16)\n",
    "\n",
    "print(x)\n",
    "\n",
    "x.insert(-2,17)\n",
    "print(x)"
   ]
  },
  {
   "cell_type": "code",
   "execution_count": 37,
   "metadata": {},
   "outputs": [
    {
     "name": "stdout",
     "output_type": "stream",
     "text": [
      "[11, 12, 13, 15, 16, 17, 16, 16, 17, 16, 17, 16, 17, 18]\n"
     ]
    }
   ],
   "source": [
    "x.remove(20)\n",
    "print(x)"
   ]
  },
  {
   "cell_type": "code",
   "execution_count": 38,
   "metadata": {},
   "outputs": [
    {
     "name": "stdout",
     "output_type": "stream",
     "text": [
      "[1, 2, 3, 4]\n"
     ]
    }
   ],
   "source": [
    "x=[1,2,3,4,5]\n",
    "if 5 in x:\n",
    "    x.remove(5)\n",
    "if 6 in x:\n",
    "    x.remove(6)\n",
    "print(x)"
   ]
  },
  {
   "cell_type": "code",
   "execution_count": 41,
   "metadata": {},
   "outputs": [
    {
     "name": "stdout",
     "output_type": "stream",
     "text": [
      "[11, 12, 13, 14, 15]\n"
     ]
    }
   ],
   "source": [
    "# pop\n",
    "\n",
    "x= [11,12,13,14,15,16]\n",
    "x.pop()\n",
    "print(x)"
   ]
  },
  {
   "cell_type": "code",
   "execution_count": 43,
   "metadata": {},
   "outputs": [
    {
     "name": "stdout",
     "output_type": "stream",
     "text": [
      "[11, 12, 13]\n",
      "14\n"
     ]
    }
   ],
   "source": [
    "item= x.pop()\n",
    "print(x)\n",
    "print(item)"
   ]
  },
  {
   "cell_type": "code",
   "execution_count": 44,
   "metadata": {},
   "outputs": [
    {
     "name": "stdout",
     "output_type": "stream",
     "text": [
      "[3, 2, 1, 3, 2, 1, '[1,2,3]', '[1,2,3]', 'guava', 'guava', 'fig', ' elderberry', 'dragonfruits', 'cherry', 'banana', 'apple']\n"
     ]
    }
   ],
   "source": [
    "fruits.reverse()\n",
    "print(fruits)"
   ]
  },
  {
   "cell_type": "code",
   "execution_count": 48,
   "metadata": {},
   "outputs": [
    {
     "name": "stdout",
     "output_type": "stream",
     "text": [
      "[14, 31, 47, 54, 55, 58, 89, 99]\n",
      "[99, 89, 58, 55, 54, 47, 31, 14]\n"
     ]
    }
   ],
   "source": [
    "nums= [54,55,47,14,58,31,89,99]\n",
    "nums.sort()\n",
    "print(nums)\n",
    "\n",
    "nums.sort(reverse=True)\n",
    "print(nums)"
   ]
  },
  {
   "cell_type": "code",
   "execution_count": 49,
   "metadata": {},
   "outputs": [
    {
     "name": "stdout",
     "output_type": "stream",
     "text": [
      "0\n"
     ]
    }
   ],
   "source": [
    "print(x.count(31))"
   ]
  },
  {
   "cell_type": "code",
   "execution_count": 56,
   "metadata": {},
   "outputs": [
    {
     "name": "stdout",
     "output_type": "stream",
     "text": [
      "[3, 2, 1, 3, 2, 1, '[1,2,3]', '[1,2,3]', 'guava', 'guava', 'fig', ' elderberry', 'dragonfruits', 'cherry', 'banana', 'apple']\n",
      "15\n"
     ]
    }
   ],
   "source": [
    "print(fruits)\n",
    "print(fruits.index('apple'))"
   ]
  },
  {
   "cell_type": "code",
   "execution_count": 57,
   "metadata": {},
   "outputs": [
    {
     "name": "stdout",
     "output_type": "stream",
     "text": [
      "[1, 2, 3]\n",
      "False\n",
      "[1, 2, 3]\n",
      "<built-in method copy of list object at 0x000002BF2AE90240>\n"
     ]
    }
   ],
   "source": [
    "x=[1,2,3]\n",
    "y=x\n",
    "print(y)\n",
    "print(y in x)\n",
    "\n",
    "z=x.copy\n",
    "print(x)\n"
   ]
  },
  {
   "cell_type": "code",
   "execution_count": 4,
   "metadata": {},
   "outputs": [
    {
     "name": "stdout",
     "output_type": "stream",
     "text": [
      "[1, 4, 9, 16]\n"
     ]
    }
   ],
   "source": [
    "x=[1,2,3,4]\n",
    "x2=[]\n",
    "for i in x:\n",
    "    s=i**2\n",
    "    x2.append(s)\n",
    "print(x2)\n"
   ]
  },
  {
   "cell_type": "code",
   "execution_count": 5,
   "metadata": {},
   "outputs": [
    {
     "name": "stdout",
     "output_type": "stream",
     "text": [
      "[1, 4, 9, 16]\n"
     ]
    }
   ],
   "source": [
    "# list comprehension\n",
    "# syntax- new list= [operation  loop]\n",
    "newlist= [i**2 for i in x]\n",
    "print(x2)"
   ]
  },
  {
   "cell_type": "code",
   "execution_count": 6,
   "metadata": {},
   "outputs": [
    {
     "name": "stdout",
     "output_type": "stream",
     "text": [
      "[144, 196, 25, 400]\n"
     ]
    }
   ],
   "source": [
    "x1=[12,14,5,20]\n",
    "x2=[i**2 for i in x1]\n",
    "print(x2)"
   ]
  },
  {
   "cell_type": "code",
   "execution_count": 7,
   "metadata": {},
   "outputs": [
    {
     "name": "stdout",
     "output_type": "stream",
     "text": [
      "[36, 100, 400, 4]\n"
     ]
    }
   ],
   "source": [
    "# list comprehension with condition (syntax--- newlist=[operation loop condition]\n",
    "\n",
    "x=[1,3,6,7,10,11,20,2]\n",
    "x2=[i**2 for i in x if i%2==0]\n",
    "print(x2)"
   ]
  },
  {
   "cell_type": "code",
   "execution_count": 9,
   "metadata": {},
   "outputs": [
    {
     "name": "stdout",
     "output_type": "stream",
     "text": [
      "['at', 'sk', 'nn', 'rv', 'ms', 'pu', 'ph', 'ay', 'gd', 'sr', 'ri', 'au', 'rm']\n"
     ]
    }
   ],
   "source": [
    "names=['Arpit','Satwik','naman', 'rajeev','manas','priyanshu','piyush','Abhay', 'govind', 'sagar','rishi','ashu', 'ram']\n",
    "newname=[]\n",
    "for i in names:\n",
    "    m=i[0]+i[-1]\n",
    "    newname.append(m.lower())\n",
    "print(newname)"
   ]
  },
  {
   "cell_type": "code",
   "execution_count": 11,
   "metadata": {},
   "outputs": [
    {
     "name": "stdout",
     "output_type": "stream",
     "text": [
      "['at', 'sk', 'nn', 'rv', 'ms', 'pu', 'ph', 'ay', 'gd', 'sr', 'ri', 'au', 'rm']\n"
     ]
    }
   ],
   "source": [
    "newname=[(i[0]+i[-1]).lower() for i in names ]\n",
    "print(newname)"
   ]
  },
  {
   "cell_type": "code",
   "execution_count": null,
   "metadata": {},
   "outputs": [],
   "source": []
  }
 ],
 "metadata": {
  "kernelspec": {
   "display_name": "base",
   "language": "python",
   "name": "python3"
  },
  "language_info": {
   "codemirror_mode": {
    "name": "ipython",
    "version": 3
   },
   "file_extension": ".py",
   "mimetype": "text/x-python",
   "name": "python",
   "nbconvert_exporter": "python",
   "pygments_lexer": "ipython3",
   "version": "3.12.3"
  }
 },
 "nbformat": 4,
 "nbformat_minor": 2
}
