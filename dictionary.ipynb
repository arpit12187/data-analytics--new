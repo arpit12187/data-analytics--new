{
 "cells": [
  {
   "cell_type": "markdown",
   "metadata": {},
   "source": [
    "# Data structure- Dictionary\n",
    "- ordered\n",
    "- mutable \n",
    "- key-value pair\n",
    "- keys are unique\n",
    "- values can be of any datatype\n",
    "- keys should be immutable\n",
    "- keys are sensitive \n",
    "- represented with{}\n",
    "- dict() is used to make dictionary\n"
   ]
  },
  {
   "cell_type": "code",
   "execution_count": 5,
   "metadata": {},
   "outputs": [
    {
     "name": "stdout",
     "output_type": "stream",
     "text": [
      "{} {'apples': 50, 'oranges': 25} {'almond': 200, 'cashew': 100}\n"
     ]
    }
   ],
   "source": [
    "a={}# empty dictionary\n",
    "b={'apples':50,'oranges':25}\n",
    "c= dict(almond=200, cashew= 100)\n",
    "print(a,b,c)"
   ]
  },
  {
   "cell_type": "code",
   "execution_count": 6,
   "metadata": {},
   "outputs": [
    {
     "name": "stdout",
     "output_type": "stream",
     "text": [
      "50\n",
      "None\n",
      "not found\n",
      "50\n"
     ]
    }
   ],
   "source": [
    "print(b['apples'])\n",
    "print(b.get('apple'))\n",
    "print(b.get('apple','not found'))\n",
    "print(b.get('apples','not found'))"
   ]
  },
  {
   "cell_type": "code",
   "execution_count": 7,
   "metadata": {},
   "outputs": [
    {
     "name": "stdout",
     "output_type": "stream",
     "text": [
      "{'apples': 50, 'oranges': 25, 'mango': 10}\n",
      "{'apples': 50, 'oranges': 25, 'mango': 10, 'dates': 5}\n"
     ]
    }
   ],
   "source": [
    "#Add /Update\n",
    "\n",
    "b['mango']=10 # add\n",
    "print(b)\n",
    "b['dates']=5 # add\n",
    "print(b)\n",
    "b['peaches']= 10"
   ]
  },
  {
   "cell_type": "code",
   "execution_count": 8,
   "metadata": {},
   "outputs": [
    {
     "name": "stdout",
     "output_type": "stream",
     "text": [
      "{'apples': 50, 'oranges': 25, 'mango': 10, 'peaches': 10}\n"
     ]
    }
   ],
   "source": [
    "# remove\n",
    "b.pop('dates')\n",
    "print(b)"
   ]
  },
  {
   "cell_type": "code",
   "execution_count": 44,
   "metadata": {},
   "outputs": [
    {
     "name": "stdout",
     "output_type": "stream",
     "text": [
      "apples 50\n",
      "oranges 25\n",
      "mango 10\n",
      "peaches 10\n"
     ]
    }
   ],
   "source": [
    "# Traversal\n",
    "for key in b:\n",
    "    print(key,b[key])\n",
    "\n",
    "\n"
   ]
  },
  {
   "cell_type": "code",
   "execution_count": 45,
   "metadata": {},
   "outputs": [
    {
     "name": "stdout",
     "output_type": "stream",
     "text": [
      "apples 50\n",
      "oranges 25\n",
      "mango 10\n",
      "peaches 10\n"
     ]
    }
   ],
   "source": [
    "for k,v in b.items():\n",
    "    print(k,v)"
   ]
  },
  {
   "cell_type": "code",
   "execution_count": 46,
   "metadata": {},
   "outputs": [
    {
     "name": "stdout",
     "output_type": "stream",
     "text": [
      "50\n",
      "25\n",
      "10\n",
      "10\n"
     ]
    }
   ],
   "source": [
    "for m in b.values():\n",
    "    print(m)"
   ]
  },
  {
   "cell_type": "code",
   "execution_count": 49,
   "metadata": {},
   "outputs": [
    {
     "name": "stdout",
     "output_type": "stream",
     "text": [
      "dict_values([50, 25, 10, 10])\n",
      "dict_keys(['apples', 'oranges', 'mango', 'peaches'])\n"
     ]
    }
   ],
   "source": [
    "print(b.values())\n",
    "print(b.keys())"
   ]
  },
  {
   "cell_type": "code",
   "execution_count": null,
   "metadata": {},
   "outputs": [],
   "source": []
  }
 ],
 "metadata": {
  "kernelspec": {
   "display_name": "base",
   "language": "python",
   "name": "python3"
  },
  "language_info": {
   "codemirror_mode": {
    "name": "ipython",
    "version": 3
   },
   "file_extension": ".py",
   "mimetype": "text/x-python",
   "name": "python",
   "nbconvert_exporter": "python",
   "pygments_lexer": "ipython3",
   "version": "3.12.3"
  }
 },
 "nbformat": 4,
 "nbformat_minor": 2
}
